{
 "cells": [
  {
   "cell_type": "markdown",
   "metadata": {},
   "source": [
    "#Using deep features to build an image classifier\n",
    "\n",
    "#Fire up GraphLab Create"
   ]
  },
  {
   "cell_type": "code",
   "execution_count": 1,
   "metadata": {
    "collapsed": true
   },
   "outputs": [],
   "source": [
    "import graphlab\n",
    "graphlab.product_key.set_product_key(\"6113-639C-8FFE-606E-5481-3A5D-2A4F-8E38\")"
   ]
  },
  {
   "cell_type": "markdown",
   "metadata": {},
   "source": [
    "#Load a common image analysis dataset\n",
    "\n",
    "We will use a popular benchmark dataset in computer vision called CIFAR-10.  \n",
    "\n",
    "(We've reduced the data to just 4 categories = {'cat','bird','automobile','dog'}.)\n",
    "\n",
    "This dataset is already split into a training set and test set.  "
   ]
  },
  {
   "cell_type": "code",
   "execution_count": 3,
   "metadata": {
    "collapsed": false
   },
   "outputs": [],
   "source": [
    "image_train = graphlab.SFrame('image_train_data/')\n",
    "image_test = graphlab.SFrame('image_test_data/')"
   ]
  },
  {
   "cell_type": "markdown",
   "metadata": {},
   "source": [
    "#Exploring the image data"
   ]
  },
  {
   "cell_type": "code",
   "execution_count": 13,
   "metadata": {
    "collapsed": true
   },
   "outputs": [],
   "source": [
    "graphlab.canvas.set_target('browser')"
   ]
  },
  {
   "cell_type": "code",
   "execution_count": 14,
   "metadata": {
    "collapsed": false
   },
   "outputs": [
    {
     "name": "stdout",
     "output_type": "stream",
     "text": [
      "Canvas is accessible via web browser at the URL: http://localhost:53344/index.html\n",
      "Opening Canvas in default web browser.\n"
     ]
    }
   ],
   "source": [
    "image_train['image'].show()"
   ]
  },
  {
   "cell_type": "markdown",
   "metadata": {},
   "source": [
    "#Train a classifier on the raw image pixels\n",
    "\n",
    "We first start by training a classifier on just the raw pixels of the image."
   ]
  },
  {
   "cell_type": "code",
   "execution_count": 18,
   "metadata": {
    "collapsed": false
   },
   "outputs": [
    {
     "data": {
      "text/html": [
       "<pre>WARNING: The number of feature dimensions in this problem is very large in comparison with the number of examples. Unless an appropriate regularization value is set, this model may not provide accurate predictions for a validation/test set.</pre>"
      ],
      "text/plain": [
       "WARNING: The number of feature dimensions in this problem is very large in comparison with the number of examples. Unless an appropriate regularization value is set, this model may not provide accurate predictions for a validation/test set."
      ]
     },
     "metadata": {},
     "output_type": "display_data"
    },
    {
     "data": {
      "text/html": [
       "<pre>Logistic regression:</pre>"
      ],
      "text/plain": [
       "Logistic regression:"
      ]
     },
     "metadata": {},
     "output_type": "display_data"
    },
    {
     "data": {
      "text/html": [
       "<pre>--------------------------------------------------------</pre>"
      ],
      "text/plain": [
       "--------------------------------------------------------"
      ]
     },
     "metadata": {},
     "output_type": "display_data"
    },
    {
     "data": {
      "text/html": [
       "<pre>Number of examples          : 1905</pre>"
      ],
      "text/plain": [
       "Number of examples          : 1905"
      ]
     },
     "metadata": {},
     "output_type": "display_data"
    },
    {
     "data": {
      "text/html": [
       "<pre>Number of classes           : 4</pre>"
      ],
      "text/plain": [
       "Number of classes           : 4"
      ]
     },
     "metadata": {},
     "output_type": "display_data"
    },
    {
     "data": {
      "text/html": [
       "<pre>Number of feature columns   : 1</pre>"
      ],
      "text/plain": [
       "Number of feature columns   : 1"
      ]
     },
     "metadata": {},
     "output_type": "display_data"
    },
    {
     "data": {
      "text/html": [
       "<pre>Number of unpacked features : 3072</pre>"
      ],
      "text/plain": [
       "Number of unpacked features : 3072"
      ]
     },
     "metadata": {},
     "output_type": "display_data"
    },
    {
     "data": {
      "text/html": [
       "<pre>Number of coefficients    : 9219</pre>"
      ],
      "text/plain": [
       "Number of coefficients    : 9219"
      ]
     },
     "metadata": {},
     "output_type": "display_data"
    },
    {
     "data": {
      "text/html": [
       "<pre>Starting L-BFGS</pre>"
      ],
      "text/plain": [
       "Starting L-BFGS"
      ]
     },
     "metadata": {},
     "output_type": "display_data"
    },
    {
     "data": {
      "text/html": [
       "<pre>--------------------------------------------------------</pre>"
      ],
      "text/plain": [
       "--------------------------------------------------------"
      ]
     },
     "metadata": {},
     "output_type": "display_data"
    },
    {
     "data": {
      "text/html": [
       "<pre>+-----------+----------+-----------+--------------+-------------------+---------------------+</pre>"
      ],
      "text/plain": [
       "+-----------+----------+-----------+--------------+-------------------+---------------------+"
      ]
     },
     "metadata": {},
     "output_type": "display_data"
    },
    {
     "data": {
      "text/html": [
       "<pre>| Iteration | Passes   | Step size | Elapsed Time | Training-accuracy | Validation-accuracy |</pre>"
      ],
      "text/plain": [
       "| Iteration | Passes   | Step size | Elapsed Time | Training-accuracy | Validation-accuracy |"
      ]
     },
     "metadata": {},
     "output_type": "display_data"
    },
    {
     "data": {
      "text/html": [
       "<pre>+-----------+----------+-----------+--------------+-------------------+---------------------+</pre>"
      ],
      "text/plain": [
       "+-----------+----------+-----------+--------------+-------------------+---------------------+"
      ]
     },
     "metadata": {},
     "output_type": "display_data"
    },
    {
     "data": {
      "text/html": [
       "<pre>| 1         | 6        | 0.000014  | 2.137486     | 0.323360          | 0.310000            |</pre>"
      ],
      "text/plain": [
       "| 1         | 6        | 0.000014  | 2.137486     | 0.323360          | 0.310000            |"
      ]
     },
     "metadata": {},
     "output_type": "display_data"
    },
    {
     "data": {
      "text/html": [
       "<pre>| 2         | 8        | 1.000000  | 3.041115     | 0.372178          | 0.420000            |</pre>"
      ],
      "text/plain": [
       "| 2         | 8        | 1.000000  | 3.041115     | 0.372178          | 0.420000            |"
      ]
     },
     "metadata": {},
     "output_type": "display_data"
    },
    {
     "data": {
      "text/html": [
       "<pre>| 3         | 9        | 1.000000  | 3.588496     | 0.419423          | 0.540000            |</pre>"
      ],
      "text/plain": [
       "| 3         | 9        | 1.000000  | 3.588496     | 0.419423          | 0.540000            |"
      ]
     },
     "metadata": {},
     "output_type": "display_data"
    },
    {
     "data": {
      "text/html": [
       "<pre>| 4         | 10       | 1.000000  | 4.158893     | 0.440945          | 0.510000            |</pre>"
      ],
      "text/plain": [
       "| 4         | 10       | 1.000000  | 4.158893     | 0.440945          | 0.510000            |"
      ]
     },
     "metadata": {},
     "output_type": "display_data"
    },
    {
     "data": {
      "text/html": [
       "<pre>| 5         | 11       | 1.000000  | 4.715280     | 0.441995          | 0.540000            |</pre>"
      ],
      "text/plain": [
       "| 5         | 11       | 1.000000  | 4.715280     | 0.441995          | 0.540000            |"
      ]
     },
     "metadata": {},
     "output_type": "display_data"
    },
    {
     "data": {
      "text/html": [
       "<pre>| 6         | 12       | 1.000000  | 5.241646     | 0.442520          | 0.530000            |</pre>"
      ],
      "text/plain": [
       "| 6         | 12       | 1.000000  | 5.241646     | 0.442520          | 0.530000            |"
      ]
     },
     "metadata": {},
     "output_type": "display_data"
    },
    {
     "data": {
      "text/html": [
       "<pre>| 10        | 16       | 1.000000  | 7.579273     | 0.503412          | 0.590000            |</pre>"
      ],
      "text/plain": [
       "| 10        | 16       | 1.000000  | 7.579273     | 0.503412          | 0.590000            |"
      ]
     },
     "metadata": {},
     "output_type": "display_data"
    },
    {
     "data": {
      "text/html": [
       "<pre>+-----------+----------+-----------+--------------+-------------------+---------------------+</pre>"
      ],
      "text/plain": [
       "+-----------+----------+-----------+--------------+-------------------+---------------------+"
      ]
     },
     "metadata": {},
     "output_type": "display_data"
    },
    {
     "data": {
      "text/html": [
       "<pre>TERMINATED: Iteration limit reached.</pre>"
      ],
      "text/plain": [
       "TERMINATED: Iteration limit reached."
      ]
     },
     "metadata": {},
     "output_type": "display_data"
    },
    {
     "data": {
      "text/html": [
       "<pre>This model may not be optimal. To improve it, consider increasing `max_iterations`.</pre>"
      ],
      "text/plain": [
       "This model may not be optimal. To improve it, consider increasing `max_iterations`."
      ]
     },
     "metadata": {},
     "output_type": "display_data"
    },
    {
     "name": "stdout",
     "output_type": "stream",
     "text": [
      "PROGRESS: Creating a validation set from 5 percent of training data. This may take a while.\n",
      "          You can set ``validation_set=None`` to disable validation tracking.\n",
      "\n"
     ]
    }
   ],
   "source": [
    "raw_pixel_model = graphlab.logistic_classifier.create(image_train,target='label',\n",
    "                                              features=['image_array'])"
   ]
  },
  {
   "cell_type": "markdown",
   "metadata": {},
   "source": [
    "#Make a prediction with the simple model based on raw pixels"
   ]
  },
  {
   "cell_type": "code",
   "execution_count": 19,
   "metadata": {
    "collapsed": false
   },
   "outputs": [
    {
     "name": "stdout",
     "output_type": "stream",
     "text": [
      "Canvas is updated and available in a tab in the default browser.\n"
     ]
    }
   ],
   "source": [
    "image_test[0:3]['image'].show()"
   ]
  },
  {
   "cell_type": "code",
   "execution_count": 20,
   "metadata": {
    "collapsed": false
   },
   "outputs": [
    {
     "data": {
      "text/plain": [
       "dtype: str\n",
       "Rows: 3\n",
       "['cat', 'automobile', 'cat']"
      ]
     },
     "execution_count": 20,
     "metadata": {},
     "output_type": "execute_result"
    }
   ],
   "source": [
    "image_test[0:3]['label']"
   ]
  },
  {
   "cell_type": "code",
   "execution_count": 21,
   "metadata": {
    "collapsed": false
   },
   "outputs": [
    {
     "data": {
      "text/plain": [
       "dtype: str\n",
       "Rows: 3\n",
       "['bird', 'cat', 'bird']"
      ]
     },
     "execution_count": 21,
     "metadata": {},
     "output_type": "execute_result"
    }
   ],
   "source": [
    "raw_pixel_model.predict(image_test[0:3])"
   ]
  },
  {
   "cell_type": "markdown",
   "metadata": {},
   "source": [
    "The model makes wrong predictions for all three images."
   ]
  },
  {
   "cell_type": "markdown",
   "metadata": {},
   "source": [
    "#Evaluating raw pixel model on test data"
   ]
  },
  {
   "cell_type": "code",
   "execution_count": 22,
   "metadata": {
    "collapsed": false
   },
   "outputs": [
    {
     "data": {
      "text/plain": [
       "{'accuracy': 0.46875, 'auc': 0.7197077916666667, 'confusion_matrix': Columns:\n",
       " \ttarget_label\tstr\n",
       " \tpredicted_label\tstr\n",
       " \tcount\tint\n",
       " \n",
       " Rows: 16\n",
       " \n",
       " Data:\n",
       " +--------------+-----------------+-------+\n",
       " | target_label | predicted_label | count |\n",
       " +--------------+-----------------+-------+\n",
       " |     bird     |       cat       |  160  |\n",
       " |  automobile  |       cat       |  128  |\n",
       " |     dog      |    automobile   |  176  |\n",
       " |     dog      |       dog       |  355  |\n",
       " |     cat      |       dog       |  238  |\n",
       " |     cat      |    automobile   |  248  |\n",
       " |     dog      |       bird      |  216  |\n",
       " |  automobile  |       dog       |   71  |\n",
       " |  automobile  |       bird      |   88  |\n",
       " |     bird     |       bird      |  471  |\n",
       " +--------------+-----------------+-------+\n",
       " [16 rows x 3 columns]\n",
       " Note: Only the head of the SFrame is printed.\n",
       " You can use print_rows(num_rows=m, num_columns=n) to print more rows and columns., 'f1_score': 0.45901807219788016, 'log_loss': 1.2137694085063326, 'precision': 0.46099475103975496, 'recall': 0.46875000000000006, 'roc_curve': Columns:\n",
       " \tthreshold\tfloat\n",
       " \tfpr\tfloat\n",
       " \ttpr\tfloat\n",
       " \tp\tint\n",
       " \tn\tint\n",
       " \tclass\tint\n",
       " \n",
       " Rows: 400004\n",
       " \n",
       " Data:\n",
       " +-----------+-----+-----+------+------+-------+\n",
       " | threshold | fpr | tpr |  p   |  n   | class |\n",
       " +-----------+-----+-----+------+------+-------+\n",
       " |    0.0    | 1.0 | 1.0 | 1000 | 3000 |   0   |\n",
       " |   1e-05   | 1.0 | 1.0 | 1000 | 3000 |   0   |\n",
       " |   2e-05   | 1.0 | 1.0 | 1000 | 3000 |   0   |\n",
       " |   3e-05   | 1.0 | 1.0 | 1000 | 3000 |   0   |\n",
       " |   4e-05   | 1.0 | 1.0 | 1000 | 3000 |   0   |\n",
       " |   5e-05   | 1.0 | 1.0 | 1000 | 3000 |   0   |\n",
       " |   6e-05   | 1.0 | 1.0 | 1000 | 3000 |   0   |\n",
       " |   7e-05   | 1.0 | 1.0 | 1000 | 3000 |   0   |\n",
       " |   8e-05   | 1.0 | 1.0 | 1000 | 3000 |   0   |\n",
       " |   9e-05   | 1.0 | 1.0 | 1000 | 3000 |   0   |\n",
       " +-----------+-----+-----+------+------+-------+\n",
       " [400004 rows x 6 columns]\n",
       " Note: Only the head of the SFrame is printed.\n",
       " You can use print_rows(num_rows=m, num_columns=n) to print more rows and columns.}"
      ]
     },
     "execution_count": 22,
     "metadata": {},
     "output_type": "execute_result"
    }
   ],
   "source": [
    "raw_pixel_model.evaluate(image_test)"
   ]
  },
  {
   "cell_type": "markdown",
   "metadata": {},
   "source": [
    "The accuracy of this model is poor, getting only about 46% accuracy."
   ]
  },
  {
   "cell_type": "markdown",
   "metadata": {},
   "source": [
    "#Can we improve the model using deep features\n",
    "\n",
    "We only have 2005 data points, so it is not possible to train a deep neural network effectively with so little data.  Instead, we will use transfer learning: using deep features trained on the full ImageNet dataset, we will train a simple model on this small dataset."
   ]
  },
  {
   "cell_type": "code",
   "execution_count": 10,
   "metadata": {
    "collapsed": false
   },
   "outputs": [
    {
     "data": {
      "text/plain": [
       "2005"
      ]
     },
     "execution_count": 10,
     "metadata": {},
     "output_type": "execute_result"
    }
   ],
   "source": [
    "len(image_train)"
   ]
  },
  {
   "cell_type": "markdown",
   "metadata": {},
   "source": [
    "##Computing deep features for our images\n",
    "\n",
    "The two lines below allow us to compute deep features.  This computation takes a little while, so we have already computed them and saved the results as a column in the data you loaded. \n",
    "\n",
    "(Note that if you would like to compute such deep features and have a GPU on your machine, you should use the GPU enabled GraphLab Create, which will be significantly faster for this task.)"
   ]
  },
  {
   "cell_type": "code",
   "execution_count": 23,
   "metadata": {
    "collapsed": false
   },
   "outputs": [
    {
     "data": {
      "text/html": [
       "<pre>Downloading http://s3.amazonaws.com/GraphLab-Datasets/deeplearning/imagenet_model_iter45/dir_archive.ini to C:/Users/harshtkg/AppData/Local/Temp/graphlab-harshtkg/7568/d1c35237-0474-4cf7-ae2a-59f9b233ff27.ini</pre>"
      ],
      "text/plain": [
       "Downloading http://s3.amazonaws.com/GraphLab-Datasets/deeplearning/imagenet_model_iter45/dir_archive.ini to C:/Users/harshtkg/AppData/Local/Temp/graphlab-harshtkg/7568/d1c35237-0474-4cf7-ae2a-59f9b233ff27.ini"
      ]
     },
     "metadata": {},
     "output_type": "display_data"
    },
    {
     "data": {
      "text/html": [
       "<pre>Failed to download http://s3.amazonaws.com/GraphLab-Datasets/deeplearning/imagenet_model_iter45/dir_archive.ini: Couldn't resolve host name</pre>"
      ],
      "text/plain": [
       "Failed to download http://s3.amazonaws.com/GraphLab-Datasets/deeplearning/imagenet_model_iter45/dir_archive.ini: Couldn't resolve host name"
      ]
     },
     "metadata": {},
     "output_type": "display_data"
    },
    {
     "ename": "IOError",
     "evalue": "Unable to load model from http://s3.amazonaws.com/GraphLab-Datasets/deeplearning/imagenet_model_iter45: Cannot open http://s3.amazonaws.com/GraphLab-Datasets/deeplearning/imagenet_model_iter45/dir_archive.ini for read. Fail to download from http://s3.amazonaws.com/GraphLab-Datasets/deeplearning/imagenet_model_iter45/dir_archive.ini. Couldn't resolve host name",
     "output_type": "error",
     "traceback": [
      "\u001b[1;31m---------------------------------------------------------------------------\u001b[0m",
      "\u001b[1;31mIOError\u001b[0m                                   Traceback (most recent call last)",
      "\u001b[1;32m<ipython-input-23-bbda99719618>\u001b[0m in \u001b[0;36m<module>\u001b[1;34m()\u001b[0m\n\u001b[1;32m----> 1\u001b[1;33m \u001b[0mdeep_learning_model\u001b[0m \u001b[1;33m=\u001b[0m \u001b[0mgraphlab\u001b[0m\u001b[1;33m.\u001b[0m\u001b[0mload_model\u001b[0m\u001b[1;33m(\u001b[0m\u001b[1;34m'http://s3.amazonaws.com/GraphLab-Datasets/deeplearning/imagenet_model_iter45'\u001b[0m\u001b[1;33m)\u001b[0m\u001b[1;33m\u001b[0m\u001b[0m\n\u001b[0m\u001b[0;32m      2\u001b[0m \u001b[0mimage_train\u001b[0m\u001b[1;33m[\u001b[0m\u001b[1;34m'deep_features'\u001b[0m\u001b[1;33m]\u001b[0m \u001b[1;33m=\u001b[0m \u001b[0mdeep_learning_model\u001b[0m\u001b[1;33m.\u001b[0m\u001b[0mextract_features\u001b[0m\u001b[1;33m(\u001b[0m\u001b[0mimage_train\u001b[0m\u001b[1;33m)\u001b[0m\u001b[1;33m\u001b[0m\u001b[0m\n",
      "\u001b[1;32mC:\\Users\\harshtkg\\AppData\\Local\\Continuum\\Anaconda\\lib\\site-packages\\graphlab\\toolkits\\_model.pyc\u001b[0m in \u001b[0;36mload_model\u001b[1;34m(location)\u001b[0m\n\u001b[0;32m    101\u001b[0m     \u001b[1;32melse\u001b[0m\u001b[1;33m:\u001b[0m\u001b[1;33m\u001b[0m\u001b[0m\n\u001b[0;32m    102\u001b[0m         \u001b[0m_internal_url\u001b[0m \u001b[1;33m=\u001b[0m \u001b[0m_make_internal_url\u001b[0m\u001b[1;33m(\u001b[0m\u001b[0mlocation\u001b[0m\u001b[1;33m)\u001b[0m\u001b[1;33m\u001b[0m\u001b[0m\n\u001b[1;32m--> 103\u001b[1;33m         \u001b[1;32mreturn\u001b[0m \u001b[0mglconnect\u001b[0m\u001b[1;33m.\u001b[0m\u001b[0mget_unity\u001b[0m\u001b[1;33m(\u001b[0m\u001b[1;33m)\u001b[0m\u001b[1;33m.\u001b[0m\u001b[0mload_model\u001b[0m\u001b[1;33m(\u001b[0m\u001b[0m_internal_url\u001b[0m\u001b[1;33m)\u001b[0m\u001b[1;33m\u001b[0m\u001b[0m\n\u001b[0m\u001b[0;32m    104\u001b[0m \u001b[1;33m\u001b[0m\u001b[0m\n\u001b[0;32m    105\u001b[0m \u001b[1;33m\u001b[0m\u001b[0m\n",
      "\u001b[1;32mgraphlab\\cython\\cy_unity.pyx\u001b[0m in \u001b[0;36mgraphlab.cython.cy_unity.UnityGlobalProxy.load_model\u001b[1;34m()\u001b[0m\n",
      "\u001b[1;32mgraphlab\\cython\\cy_unity.pyx\u001b[0m in \u001b[0;36mgraphlab.cython.cy_unity.UnityGlobalProxy.load_model\u001b[1;34m()\u001b[0m\n",
      "\u001b[1;31mIOError\u001b[0m: Unable to load model from http://s3.amazonaws.com/GraphLab-Datasets/deeplearning/imagenet_model_iter45: Cannot open http://s3.amazonaws.com/GraphLab-Datasets/deeplearning/imagenet_model_iter45/dir_archive.ini for read. Fail to download from http://s3.amazonaws.com/GraphLab-Datasets/deeplearning/imagenet_model_iter45/dir_archive.ini. Couldn't resolve host name"
     ]
    }
   ],
   "source": [
    "deep_learning_model = graphlab.load_model('http://s3.amazonaws.com/GraphLab-Datasets/deeplearning/imagenet_model_iter45')\n",
    "image_train['deep_features'] = deep_learning_model.extract_features(image_train)"
   ]
  },
  {
   "cell_type": "markdown",
   "metadata": {},
   "source": [
    "As we can see, the column deep_features already contains the pre-computed deep features for this data. "
   ]
  },
  {
   "cell_type": "code",
   "execution_count": 12,
   "metadata": {
    "collapsed": false
   },
   "outputs": [
    {
     "data": {
      "text/html": [
       "<div style=\"max-height:1000px;max-width:1500px;overflow:auto;\"><table frame=\"box\" rules=\"cols\">\n",
       "    <tr>\n",
       "        <th style=\"padding-left: 1em; padding-right: 1em; text-align: center\">id</th>\n",
       "        <th style=\"padding-left: 1em; padding-right: 1em; text-align: center\">image</th>\n",
       "        <th style=\"padding-left: 1em; padding-right: 1em; text-align: center\">label</th>\n",
       "        <th style=\"padding-left: 1em; padding-right: 1em; text-align: center\">deep_features</th>\n",
       "        <th style=\"padding-left: 1em; padding-right: 1em; text-align: center\">image_array</th>\n",
       "    </tr>\n",
       "    <tr>\n",
       "        <td style=\"padding-left: 1em; padding-right: 1em; text-align: center; vertical-align: top\">24</td>\n",
       "        <td style=\"padding-left: 1em; padding-right: 1em; text-align: center; vertical-align: top\">Height: 32 Width: 32</td>\n",
       "        <td style=\"padding-left: 1em; padding-right: 1em; text-align: center; vertical-align: top\">bird</td>\n",
       "        <td style=\"padding-left: 1em; padding-right: 1em; text-align: center; vertical-align: top\">[0.242871761322,<br>1.09545373917, 0.0, ...</td>\n",
       "        <td style=\"padding-left: 1em; padding-right: 1em; text-align: center; vertical-align: top\">[73.0, 77.0, 58.0, 71.0,<br>68.0, 50.0, 77.0, 69.0, ...</td>\n",
       "    </tr>\n",
       "    <tr>\n",
       "        <td style=\"padding-left: 1em; padding-right: 1em; text-align: center; vertical-align: top\">33</td>\n",
       "        <td style=\"padding-left: 1em; padding-right: 1em; text-align: center; vertical-align: top\">Height: 32 Width: 32</td>\n",
       "        <td style=\"padding-left: 1em; padding-right: 1em; text-align: center; vertical-align: top\">cat</td>\n",
       "        <td style=\"padding-left: 1em; padding-right: 1em; text-align: center; vertical-align: top\">[0.525087952614, 0.0,<br>0.0, 0.0, 0.0, 0.0, ...</td>\n",
       "        <td style=\"padding-left: 1em; padding-right: 1em; text-align: center; vertical-align: top\">[7.0, 5.0, 8.0, 7.0, 5.0,<br>8.0, 5.0, 4.0, 6.0, 7.0, ...</td>\n",
       "    </tr>\n",
       "    <tr>\n",
       "        <td style=\"padding-left: 1em; padding-right: 1em; text-align: center; vertical-align: top\">36</td>\n",
       "        <td style=\"padding-left: 1em; padding-right: 1em; text-align: center; vertical-align: top\">Height: 32 Width: 32</td>\n",
       "        <td style=\"padding-left: 1em; padding-right: 1em; text-align: center; vertical-align: top\">cat</td>\n",
       "        <td style=\"padding-left: 1em; padding-right: 1em; text-align: center; vertical-align: top\">[0.566015958786, 0.0,<br>0.0, 0.0, 0.0, 0.0, ...</td>\n",
       "        <td style=\"padding-left: 1em; padding-right: 1em; text-align: center; vertical-align: top\">[169.0, 122.0, 65.0,<br>131.0, 108.0, 75.0, ...</td>\n",
       "    </tr>\n",
       "    <tr>\n",
       "        <td style=\"padding-left: 1em; padding-right: 1em; text-align: center; vertical-align: top\">70</td>\n",
       "        <td style=\"padding-left: 1em; padding-right: 1em; text-align: center; vertical-align: top\">Height: 32 Width: 32</td>\n",
       "        <td style=\"padding-left: 1em; padding-right: 1em; text-align: center; vertical-align: top\">dog</td>\n",
       "        <td style=\"padding-left: 1em; padding-right: 1em; text-align: center; vertical-align: top\">[1.12979578972, 0.0, 0.0,<br>0.778194487095, 0.0, ...</td>\n",
       "        <td style=\"padding-left: 1em; padding-right: 1em; text-align: center; vertical-align: top\">[154.0, 179.0, 152.0,<br>159.0, 183.0, 157.0, ...</td>\n",
       "    </tr>\n",
       "    <tr>\n",
       "        <td style=\"padding-left: 1em; padding-right: 1em; text-align: center; vertical-align: top\">90</td>\n",
       "        <td style=\"padding-left: 1em; padding-right: 1em; text-align: center; vertical-align: top\">Height: 32 Width: 32</td>\n",
       "        <td style=\"padding-left: 1em; padding-right: 1em; text-align: center; vertical-align: top\">bird</td>\n",
       "        <td style=\"padding-left: 1em; padding-right: 1em; text-align: center; vertical-align: top\">[1.71786928177, 0.0, 0.0,<br>0.0, 0.0, 0.0, ...</td>\n",
       "        <td style=\"padding-left: 1em; padding-right: 1em; text-align: center; vertical-align: top\">[216.0, 195.0, 180.0,<br>201.0, 178.0, 160.0, ...</td>\n",
       "    </tr>\n",
       "    <tr>\n",
       "        <td style=\"padding-left: 1em; padding-right: 1em; text-align: center; vertical-align: top\">97</td>\n",
       "        <td style=\"padding-left: 1em; padding-right: 1em; text-align: center; vertical-align: top\">Height: 32 Width: 32</td>\n",
       "        <td style=\"padding-left: 1em; padding-right: 1em; text-align: center; vertical-align: top\">automobile</td>\n",
       "        <td style=\"padding-left: 1em; padding-right: 1em; text-align: center; vertical-align: top\">[1.57818555832, 0.0, 0.0,<br>0.0, 0.0, 0.0, ...</td>\n",
       "        <td style=\"padding-left: 1em; padding-right: 1em; text-align: center; vertical-align: top\">[33.0, 44.0, 27.0, 29.0,<br>44.0, 31.0, 32.0, 45.0, ...</td>\n",
       "    </tr>\n",
       "    <tr>\n",
       "        <td style=\"padding-left: 1em; padding-right: 1em; text-align: center; vertical-align: top\">107</td>\n",
       "        <td style=\"padding-left: 1em; padding-right: 1em; text-align: center; vertical-align: top\">Height: 32 Width: 32</td>\n",
       "        <td style=\"padding-left: 1em; padding-right: 1em; text-align: center; vertical-align: top\">dog</td>\n",
       "        <td style=\"padding-left: 1em; padding-right: 1em; text-align: center; vertical-align: top\">[0.0, 0.0,<br>0.220677852631, 0.0,  ...</td>\n",
       "        <td style=\"padding-left: 1em; padding-right: 1em; text-align: center; vertical-align: top\">[97.0, 51.0, 31.0, 104.0,<br>58.0, 38.0, 107.0, 61.0, ...</td>\n",
       "    </tr>\n",
       "    <tr>\n",
       "        <td style=\"padding-left: 1em; padding-right: 1em; text-align: center; vertical-align: top\">121</td>\n",
       "        <td style=\"padding-left: 1em; padding-right: 1em; text-align: center; vertical-align: top\">Height: 32 Width: 32</td>\n",
       "        <td style=\"padding-left: 1em; padding-right: 1em; text-align: center; vertical-align: top\">bird</td>\n",
       "        <td style=\"padding-left: 1em; padding-right: 1em; text-align: center; vertical-align: top\">[0.0, 0.23753464222, 0.0,<br>0.0, 0.0, 0.0, ...</td>\n",
       "        <td style=\"padding-left: 1em; padding-right: 1em; text-align: center; vertical-align: top\">[93.0, 96.0, 88.0, 102.0,<br>106.0, 97.0, 117.0, ...</td>\n",
       "    </tr>\n",
       "    <tr>\n",
       "        <td style=\"padding-left: 1em; padding-right: 1em; text-align: center; vertical-align: top\">136</td>\n",
       "        <td style=\"padding-left: 1em; padding-right: 1em; text-align: center; vertical-align: top\">Height: 32 Width: 32</td>\n",
       "        <td style=\"padding-left: 1em; padding-right: 1em; text-align: center; vertical-align: top\">automobile</td>\n",
       "        <td style=\"padding-left: 1em; padding-right: 1em; text-align: center; vertical-align: top\">[0.0, 0.0, 0.0, 0.0, 0.0,<br>0.0, 7.5737862587, 0.0, ...</td>\n",
       "        <td style=\"padding-left: 1em; padding-right: 1em; text-align: center; vertical-align: top\">[35.0, 59.0, 53.0, 36.0,<br>56.0, 56.0, 42.0, 62.0, ...</td>\n",
       "    </tr>\n",
       "    <tr>\n",
       "        <td style=\"padding-left: 1em; padding-right: 1em; text-align: center; vertical-align: top\">138</td>\n",
       "        <td style=\"padding-left: 1em; padding-right: 1em; text-align: center; vertical-align: top\">Height: 32 Width: 32</td>\n",
       "        <td style=\"padding-left: 1em; padding-right: 1em; text-align: center; vertical-align: top\">bird</td>\n",
       "        <td style=\"padding-left: 1em; padding-right: 1em; text-align: center; vertical-align: top\">[0.658935725689, 0.0,<br>0.0, 0.0, 0.0, 0.0, ...</td>\n",
       "        <td style=\"padding-left: 1em; padding-right: 1em; text-align: center; vertical-align: top\">[205.0, 193.0, 195.0,<br>200.0, 187.0, 193.0, ...</td>\n",
       "    </tr>\n",
       "</table>\n",
       "[10 rows x 5 columns]<br/>\n",
       "</div>"
      ],
      "text/plain": [
       "Columns:\n",
       "\tid\tint\n",
       "\timage\tImage\n",
       "\tlabel\tstr\n",
       "\tdeep_features\tarray\n",
       "\timage_array\tarray\n",
       "\n",
       "Rows: 10\n",
       "\n",
       "Data:\n",
       "+-----+----------------------+------------+-------------------------------+\n",
       "|  id |        image         |   label    |         deep_features         |\n",
       "+-----+----------------------+------------+-------------------------------+\n",
       "|  24 | Height: 32 Width: 32 |    bird    | [0.242871761322, 1.0954537... |\n",
       "|  33 | Height: 32 Width: 32 |    cat     | [0.525087952614, 0.0, 0.0,... |\n",
       "|  36 | Height: 32 Width: 32 |    cat     | [0.566015958786, 0.0, 0.0,... |\n",
       "|  70 | Height: 32 Width: 32 |    dog     | [1.12979578972, 0.0, 0.0, ... |\n",
       "|  90 | Height: 32 Width: 32 |    bird    | [1.71786928177, 0.0, 0.0, ... |\n",
       "|  97 | Height: 32 Width: 32 | automobile | [1.57818555832, 0.0, 0.0, ... |\n",
       "| 107 | Height: 32 Width: 32 |    dog     | [0.0, 0.0, 0.220677852631,... |\n",
       "| 121 | Height: 32 Width: 32 |    bird    | [0.0, 0.23753464222, 0.0, ... |\n",
       "| 136 | Height: 32 Width: 32 | automobile | [0.0, 0.0, 0.0, 0.0, 0.0, ... |\n",
       "| 138 | Height: 32 Width: 32 |    bird    | [0.658935725689, 0.0, 0.0,... |\n",
       "+-----+----------------------+------------+-------------------------------+\n",
       "+-------------------------------+\n",
       "|          image_array          |\n",
       "+-------------------------------+\n",
       "| [73.0, 77.0, 58.0, 71.0, 6... |\n",
       "| [7.0, 5.0, 8.0, 7.0, 5.0, ... |\n",
       "| [169.0, 122.0, 65.0, 131.0... |\n",
       "| [154.0, 179.0, 152.0, 159.... |\n",
       "| [216.0, 195.0, 180.0, 201.... |\n",
       "| [33.0, 44.0, 27.0, 29.0, 4... |\n",
       "| [97.0, 51.0, 31.0, 104.0, ... |\n",
       "| [93.0, 96.0, 88.0, 102.0, ... |\n",
       "| [35.0, 59.0, 53.0, 36.0, 5... |\n",
       "| [205.0, 193.0, 195.0, 200.... |\n",
       "+-------------------------------+\n",
       "[10 rows x 5 columns]"
      ]
     },
     "execution_count": 12,
     "metadata": {},
     "output_type": "execute_result"
    }
   ],
   "source": [
    "image_train.head()"
   ]
  },
  {
   "cell_type": "markdown",
   "metadata": {},
   "source": [
    "#Given the deep features, let's train a classifier"
   ]
  },
  {
   "cell_type": "code",
   "execution_count": 13,
   "metadata": {
    "collapsed": false
   },
   "outputs": [
    {
     "name": "stdout",
     "output_type": "stream",
     "text": [
      "PROGRESS: Creating a validation set from 5 percent of training data. This may take a while.\n",
      "          You can set ``validation_set=None`` to disable validation tracking.\n",
      "\n",
      "PROGRESS: WARNING: Detected extremely low variance for feature(s) 'deep_features' because all entries are nearly the same.\n",
      "Proceeding with model training using all features. If the model does not provide results of adequate quality, exclude the above mentioned feature(s) from the input dataset.\n",
      "PROGRESS: Logistic regression:\n",
      "PROGRESS: --------------------------------------------------------\n",
      "PROGRESS: Number of examples          : 1919\n",
      "PROGRESS: Number of classes           : 4\n",
      "PROGRESS: Number of feature columns   : 1\n",
      "PROGRESS: Number of unpacked features : 4096\n",
      "PROGRESS: Number of coefficients    : 12291\n",
      "PROGRESS: Starting L-BFGS\n",
      "PROGRESS: --------------------------------------------------------\n",
      "PROGRESS: +-----------+----------+-----------+--------------+-------------------+---------------------+\n",
      "PROGRESS: | Iteration | Passes   | Step size | Elapsed Time | Training-accuracy | Validation-accuracy |\n",
      "PROGRESS: +-----------+----------+-----------+--------------+-------------------+---------------------+\n",
      "PROGRESS: | 1         | 5        | 0.000130  | 0.376212     | 0.720688          | 0.732558            |\n",
      "PROGRESS: | 2         | 9        | 0.250000  | 0.717980     | 0.766024          | 0.790698            |\n",
      "PROGRESS: | 3         | 10       | 0.250000  | 0.892061     | 0.769151          | 0.802326            |\n",
      "PROGRESS: | 4         | 11       | 0.250000  | 1.022422     | 0.774883          | 0.802326            |\n",
      "PROGRESS: | 5         | 12       | 0.250000  | 1.152027     | 0.788431          | 0.802326            |\n",
      "PROGRESS: | 6         | 13       | 0.250000  | 1.287902     | 0.797290          | 0.790698            |\n",
      "PROGRESS: | 10        | 17       | 0.250000  | 1.812273     | 0.875456          | 0.767442            |\n",
      "PROGRESS: +-----------+----------+-----------+--------------+-------------------+---------------------+\n"
     ]
    }
   ],
   "source": [
    "deep_features_model = graphlab.logistic_classifier.create(image_train,\n",
    "                                                         features=['deep_features'],\n",
    "                                                         target='label')"
   ]
  },
  {
   "cell_type": "markdown",
   "metadata": {},
   "source": [
    "#Apply the deep features model to first few images of test set"
   ]
  },
  {
   "cell_type": "code",
   "execution_count": 14,
   "metadata": {
    "collapsed": false
   },
   "outputs": [
    {
     "data": {
      "application/javascript": [
       "$(\"head\").append($(\"<link/>\").attr({\n",
       "  rel:  \"stylesheet\",\n",
       "  type: \"text/css\",\n",
       "  href: \"//cdnjs.cloudflare.com/ajax/libs/font-awesome/4.1.0/css/font-awesome.min.css\"\n",
       "}));\n",
       "$(\"head\").append($(\"<link/>\").attr({\n",
       "  rel:  \"stylesheet\",\n",
       "  type: \"text/css\",\n",
       "  href: \"//dato.com/files/canvas/1.5.2/css/canvas.css\"\n",
       "}));\n",
       "\n",
       "            (function(){\n",
       "\n",
       "                var e = null;\n",
       "                if (typeof element == 'undefined') {\n",
       "                    var scripts = document.getElementsByTagName('script');\n",
       "                    var thisScriptTag = scripts[scripts.length-1];\n",
       "                    var parentDiv = thisScriptTag.parentNode;\n",
       "                    e = document.createElement('div');\n",
       "                    parentDiv.appendChild(e);\n",
       "                } else {\n",
       "                    e = element[0];\n",
       "                }\n",
       "\n",
       "                require(['//dato.com/files/canvas/1.5.2/js/ipython_app.js'], function(IPythonApp){\n",
       "                    var app = new IPythonApp();\n",
       "                    app.attachView('sarray','Images', {\"ipython\": true, \"rows\": [{\"format\": \"raw\", \"value\": [158, 112, 49, 159, 111, 47, 165, 116, 51, 166, 118, 53, 160, 112, 46, 156, 109, 41, 162, 115, 47, 159, 113, 45, 158, 111, 44, 159, 113, 41, 161, 116, 41, 160, 111, 52, 161, 111, 49, 166, 117, 41, 169, 117, 45, 170, 119, 44, 167, 117, 40, 162, 113, 38, 160, 111, 39, 160, 112, 43, 156, 109, 44, 149, 107, 45, 150, 107, 45, 148, 106, 43, 149, 107, 44, 143, 101, 39, 140, 98, 43, 141, 97, 41, 143, 97, 38, 137, 95, 36, 126, 91, 36, 116, 85, 33, 152, 112, 51, 151, 110, 40, 159, 114, 45, 166, 116, 56, 162, 112, 49, 160, 113, 43, 164, 117, 47, 162, 114, 45, 163, 116, 46, 156, 110, 38, 155, 111, 41, 159, 110, 54, 163, 113, 52, 170, 119, 41, 171, 117, 40, 171, 115, 33, 169, 115, 30, 160, 111, 33, 154, 112, 41, 151, 115, 50, 145, 110, 53, 139, 104, 55, 140, 102, 52, 141, 100, 48, 149, 105, 50, 147, 102, 46, 145, 102, 45, 142, 97, 38, 143, 98, 34, 136, 95, 31, 125, 91, 32, 119, 88, 34, 151, 110, 47, 151, 109, 33, 158, 111, 36, 167, 111, 48, 160, 106, 42, 163, 115, 44, 165, 117, 45, 165, 117, 45, 163, 115, 43, 162, 115, 43, 158, 114, 48, 157, 109, 57, 161, 111, 51, 166, 115, 38, 167, 114, 37, 169, 113, 35, 170, 116, 39, 159, 114, 47, 145, 111, 54, 121, 96, 49, 110, 90, 52, 98, 78, 50, 101, 77, 47, 114, 85, 50, 120, 86, 48, 134, 96, 55, 143, 103, 51, 140, 99, 39, 142, 99, 35, 139, 98, 34, 130, 95, 34, 120, 89, 33, 155, 107, 40, 155, 110, 32, 160, 109, 31, 174, 112, 44, 167, 110, 43, 167, 117, 46, 169, 120, 48, 169, 119, 48, 165, 115, 44, 165, 117, 45, 167, 123, 57, 191, 146, 95, 177, 130, 75, 157, 111, 41, 162, 115, 47, 164, 114, 54, 158, 112, 58, 149, 111, 67, 104, 80, 47, 103, 87, 65, 98, 90, 76, 92, 90, 84, 80, 75, 66, 74, 63, 50, 86, 70, 52, 83, 62, 39, 113, 85, 45, 132, 98, 46, 140, 102, 43, 140, 101, 39, 136, 99, 39, 127, 94, 36, 155, 107, 41, 156, 114, 48, 161, 115, 49, 170, 114, 47, 169, 114, 43, 163, 113, 40, 169, 120, 47, 166, 116, 44, 164, 113, 41, 164, 116, 42, 173, 128, 59, 246, 214, 164, 195, 156, 107, 151, 114, 56, 146, 111, 60, 142, 108, 71, 111, 80, 50, 78, 53, 31, 85, 69, 56, 113, 103, 98, 112, 110, 111, 106, 114, 118, 97, 102, 105, 93, 94, 93, 74, 72, 67, 84, 78, 70, 85, 73, 47, 105, 83, 45, 128, 96, 48, 138, 101, 46, 133, 94, 36, 129, 93, 36, 148, 109, 54, 133, 104, 64, 130, 100, 57, 147, 112, 53, 161, 115, 44, 165, 113, 39, 167, 116, 41, 167, 115, 41, 163, 111, 37, 165, 116, 39, 163, 118, 42, 180, 138, 85, 157, 122, 78, 128, 102, 58, 97, 75, 43, 66, 50, 31, 69, 58, 43, 66, 56, 45, 89, 83, 76, 118, 113, 110, 122, 121, 120, 119, 122, 122, 114, 116, 116, 94, 96, 96, 99, 100, 97, 91, 91, 86, 58, 58, 47, 67, 58, 37, 108, 84, 49, 140, 105, 58, 138, 98, 44, 134, 95, 40, 127, 100, 57, 109, 95, 80, 47, 37, 17, 88, 74, 28, 153, 117, 48, 170, 118, 43, 168, 115, 40, 170, 118, 43, 169, 117, 42, 166, 116, 37, 164, 120, 39, 147, 107, 52, 129, 98, 59, 127, 108, 75, 100, 87, 70, 68, 67, 57, 78, 83, 72, 72, 75, 64, 83, 84, 74, 132, 130, 121, 146, 142, 132, 124, 118, 108, 105, 99, 90, 107, 102, 94, 115, 111, 103, 85, 83, 77, 63, 71, 69, 46, 47, 39, 79, 61, 36, 132, 98, 58, 141, 99, 48, 134, 93, 39, 131, 115, 90, 99, 96, 92, 42, 43, 38, 70, 64, 41, 143, 111, 56, 167, 117, 42, 165, 114, 36, 168, 116, 39, 171, 119, 49, 161, 113, 51, 140, 109, 51, 120, 94, 49, 130, 110, 77, 144, 131, 107, 116, 106, 93, 88, 87, 79, 91, 95, 88, 85, 88, 82, 77, 77, 69, 124, 118, 107, 163, 153, 140, 136, 124, 112, 102, 93, 81, 106, 98, 88, 100, 93, 84, 85, 81, 74, 54, 60, 58, 49, 53, 49, 57, 47, 32, 107, 83, 50, 138, 103, 51, 136, 97, 39, 170, 161, 144, 103, 105, 105, 54, 58, 59, 124, 121, 113, 153, 124, 82, 161, 113, 43, 163, 117, 41, 166, 122, 50, 165, 121, 66, 174, 135, 95, 113, 89, 59, 125, 105, 78, 157, 141, 121, 156, 143, 128, 121, 111, 101, 86, 80, 74, 82, 81, 77, 84, 85, 82, 80, 78, 73, 81, 71, 61, 138, 125, 112, 146, 135, 123, 113, 103, 93, 87, 79, 70, 83, 77, 69, 86, 82, 76, 71, 73, 67, 56, 57, 53, 40, 35, 27, 74, 59, 35, 133, 106, 59, 137, 103, 45, 180, 176, 163, 134, 139, 143, 94, 100, 105, 154, 154, 149, 174, 149, 112, 158, 116, 51, 156, 116, 47, 153, 118, 60, 207, 180, 146, 237, 214, 198, 207, 180, 166, 156, 131, 119, 174, 153, 145, 148, 131, 125, 125, 110, 107, 93, 85, 79, 86, 84, 79, 74, 74, 71, 59, 57, 53, 76, 68, 58, 137, 125, 112, 143, 133, 122, 133, 124, 114, 106, 98, 89, 86, 81, 74, 87, 85, 78, 84, 85, 78, 75, 76, 71, 50, 49, 43, 40, 30, 15, 95, 75, 44, 132, 103, 57, 183, 183, 175, 108, 116, 122, 142, 151, 158, 165, 169, 168, 177, 156, 122, 155, 112, 50, 159, 118, 51, 122, 89, 47, 213, 197, 179, 237, 224, 226, 220, 191, 188, 164, 135, 131, 183, 159, 155, 156, 137, 132, 125, 108, 104, 120, 111, 104, 78, 76, 69, 80, 80, 77, 45, 44, 40, 91, 85, 77, 175, 165, 154, 157, 147, 137, 155, 147, 138, 107, 100, 92, 87, 83, 77, 103, 102, 96, 88, 88, 79, 78, 79, 73, 59, 59, 59, 41, 36, 33, 59, 46, 31, 104, 81, 46, 188, 191, 189, 100, 108, 116, 135, 144, 153, 170, 175, 178, 187, 167, 136, 166, 120, 59, 173, 123, 55, 134, 93, 44, 117, 95, 80, 194, 182, 188, 199, 171, 164, 170, 142, 133, 185, 161, 151, 189, 171, 159, 134, 119, 106, 117, 107, 95, 102, 98, 89, 84, 84, 79, 38, 38, 34, 125, 121, 113, 210, 201, 192, 160, 152, 142, 146, 139, 130, 93, 89, 82, 83, 80, 75, 94, 93, 88, 104, 104, 94, 85, 87, 81, 73, 75, 78, 55, 53, 55, 62, 55, 48, 76, 56, 26, 189, 194, 194, 90, 96, 105, 127, 134, 144, 175, 180, 185, 174, 156, 133, 166, 123, 68, 178, 123, 53, 159, 109, 47, 97, 68, 44, 168, 154, 152, 168, 144, 126, 137, 114, 94, 186, 166, 148, 216, 202, 183, 160, 149, 129, 123, 113, 98, 120, 114, 105, 115, 114, 109, 50, 50, 47, 150, 147, 140, 194, 187, 178, 155, 149, 140, 123, 118, 111, 91, 88, 83, 84, 83, 79, 84, 84, 80, 95, 95, 85, 86, 87, 81, 84, 87, 89, 73, 73, 73, 79, 74, 64, 73, 55, 24, 189, 192, 193, 93, 95, 103, 152, 154, 163, 185, 188, 192, 119, 110, 98, 136, 106, 66, 173, 124, 58, 167, 116, 50, 103, 72, 39, 147, 132, 120, 145, 125, 103, 167, 149, 127, 189, 174, 155, 226, 216, 200, 180, 172, 157, 141, 131, 117, 126, 117, 107, 117, 114, 109, 71, 71, 68, 154, 152, 147, 186, 181, 174, 149, 144, 136, 114, 110, 104, 87, 85, 80, 80, 80, 76, 72, 73, 70, 80, 80, 72, 99, 100, 94, 100, 101, 99, 90, 88, 81, 97, 89, 69, 94, 73, 34, 194, 196, 196, 108, 107, 112, 168, 167, 172, 186, 186, 188, 105, 109, 109, 99, 89, 67, 156, 119, 62, 167, 122, 55, 100, 74, 34, 115, 106, 88, 138, 123, 103, 198, 185, 169, 190, 180, 169, 172, 165, 159, 145, 140, 140, 154, 143, 134, 146, 136, 125, 103, 100, 95, 71, 71, 70, 152, 152, 149, 179, 175, 170, 137, 133, 127, 130, 128, 122, 110, 109, 105, 85, 86, 83, 91, 93, 91, 95, 96, 90, 109, 110, 104, 115, 116, 111, 100, 96, 80, 97, 85, 53, 117, 95, 47, 197, 197, 197, 132, 129, 136, 172, 167, 174, 184, 178, 181, 130, 137, 142, 78, 83, 77, 140, 120, 88, 155, 125, 77, 115, 94, 52, 130, 120, 93, 143, 131, 116, 230, 221, 211, 242, 236, 230, 145, 138, 137, 135, 130, 130, 131, 121, 112, 121, 112, 101, 108, 104, 95, 95, 88, 75, 144, 134, 118, 168, 159, 146, 152, 147, 138, 112, 108, 101, 87, 85, 80, 71, 72, 68, 87, 88, 87, 105, 104, 99, 112, 109, 99, 120, 110, 93, 103, 86, 54, 121, 96, 48, 136, 104, 48, 203, 203, 204, 146, 146, 160, 168, 164, 178, 191, 182, 188, 168, 170, 172, 78, 86, 90, 126, 125, 126, 138, 126, 113, 138, 121, 82, 96, 80, 37, 154, 143, 133, 173, 163, 155, 162, 152, 141, 140, 132, 117, 113, 106, 88, 113, 106, 90, 101, 101, 92, 105, 101, 87, 112, 90, 58, 171, 143, 104, 156, 138, 109, 148, 141, 126, 135, 130, 118, 109, 105, 97, 78, 76, 72, 79, 79, 77, 94, 93, 94, 101, 91, 82, 107, 83, 55, 125, 88, 45, 151, 108, 55, 144, 104, 46, 214, 215, 215, 163, 166, 180, 164, 167, 184, 183, 184, 194, 176, 182, 186, 94, 102, 105, 96, 96, 102, 156, 149, 145, 148, 137, 111, 106, 93, 61, 129, 116, 105, 118, 105, 95, 114, 102, 89, 116, 105, 89, 102, 91, 73, 115, 110, 98, 86, 91, 88, 101, 103, 95, 144, 128, 102, 118, 96, 64, 68, 56, 32, 128, 120, 105, 133, 126, 115, 75, 69, 61, 60, 56, 51, 58, 56, 53, 71, 70, 65, 102, 93, 78, 116, 94, 64, 143, 112, 68, 150, 116, 64, 140, 110, 54, 212, 211, 205, 178, 184, 192, 167, 175, 189, 173, 181, 193, 176, 184, 188, 124, 131, 133, 86, 88, 96, 141, 139, 143, 153, 148, 141, 135, 128, 111, 104, 90, 80, 77, 64, 55, 134, 121, 108, 124, 111, 96, 129, 117, 100, 147, 143, 133, 85, 92, 93, 92, 96, 93, 150, 139, 120, 132, 117, 93, 117, 109, 92, 107, 99, 86, 75, 68, 58, 64, 59, 52, 44, 41, 39, 65, 62, 60, 86, 69, 40, 133, 105, 59, 155, 119, 62, 160, 120, 54, 154, 115, 45, 151, 111, 46, 199, 192, 180, 187, 189, 187, 171, 176, 181, 174, 179, 185, 177, 182, 184, 144, 149, 152, 86, 90, 99, 119, 121, 132, 122, 124, 130, 137, 136, 135, 144, 134, 126, 70, 59, 51, 129, 118, 108, 108, 97, 86, 145, 134, 123, 184, 176, 168, 116, 118, 118, 73, 75, 73, 131, 119, 103, 137, 124, 105, 134, 129, 118, 89, 86, 78, 51, 49, 44, 52, 51, 50, 47, 49, 52, 90, 90, 93, 121, 91, 60, 163, 118, 68, 171, 121, 64, 164, 113, 52, 158, 111, 50, 149, 107, 46, 165, 156, 146, 195, 193, 187, 179, 178, 175, 177, 173, 172, 181, 181, 180, 152, 157, 160, 99, 103, 111, 131, 135, 146, 171, 175, 185, 103, 105, 111, 93, 90, 87, 80, 77, 73, 93, 90, 86, 122, 118, 116, 178, 173, 173, 191, 182, 177, 150, 148, 148, 100, 100, 101, 89, 78, 66, 87, 77, 63, 60, 61, 57, 46, 52, 54, 38, 46, 51, 24, 33, 41, 46, 57, 69, 60, 71, 83, 108, 100, 75, 144, 125, 82, 144, 123, 76, 128, 109, 61, 127, 113, 69, 120, 105, 63, 117, 120, 124, 195, 200, 200, 177, 178, 176, 178, 169, 168, 181, 179, 179, 138, 144, 147, 83, 87, 91, 150, 153, 159, 245, 247, 250, 219, 222, 225, 133, 140, 144, 134, 141, 147, 149, 156, 164, 176, 182, 192, 190, 196, 208, 194, 192, 197, 168, 172, 181, 125, 133, 143, 110, 109, 109, 61, 62, 62, 35, 49, 58, 34, 54, 68, 49, 70, 87, 58, 81, 102, 61, 85, 110, 58, 84, 111, 69, 99, 122, 72, 101, 119, 78, 104, 120, 69, 96, 112, 59, 92, 112, 55, 90, 115, 79, 105, 133, 175, 197, 213, 174, 183, 192, 176, 172, 177, 177, 177, 182, 140, 146, 150, 109, 112, 113, 211, 211, 209, 253, 252, 247, 252, 253, 252, 208, 224, 232, 124, 143, 157, 114, 132, 149, 124, 141, 162, 116, 133, 156, 122, 133, 152, 104, 124, 148, 68, 93, 119, 68, 87, 104, 60, 82, 101, 52, 84, 111, 50, 84, 110, 51, 85, 115, 56, 93, 125, 56, 94, 131, 51, 91, 130, 43, 96, 135, 51, 104, 141, 59, 108, 142, 48, 97, 132, 43, 97, 137, 42, 95, 132, 41, 89, 135, 96, 137, 168, 144, 168, 188, 168, 174, 188, 178, 182, 192, 165, 170, 174, 165, 166, 164, 246, 245, 237, 253, 251, 241, 227, 231, 228, 110, 136, 153, 60, 88, 111, 53, 80, 105, 49, 76, 105, 49, 75, 107, 48, 72, 101, 45, 79, 115, 42, 81, 120, 46, 81, 113, 42, 82, 116, 38, 86, 125, 46, 90, 125, 46, 89, 126, 43, 87, 128, 42, 89, 132, 46, 93, 139, 46, 94, 137, 50, 96, 137, 55, 96, 135, 53, 94, 134, 51, 95, 139, 45, 90, 133, 29, 91, 141, 29, 87, 130, 59, 102, 134, 131, 153, 176, 166, 179, 191, 132, 136, 137, 194, 189, 181, 254, 250, 242, 241, 245, 245, 141, 159, 175, 61, 94, 127, 50, 84, 118, 50, 84, 119, 51, 85, 121, 49, 83, 120, 50, 84, 116, 47, 86, 117, 42, 84, 117, 39, 82, 115, 34, 79, 113, 35, 83, 120, 39, 86, 125, 38, 85, 125, 42, 89, 130, 45, 92, 134, 56, 103, 145, 62, 103, 142, 59, 101, 142, 56, 102, 146, 50, 99, 144, 46, 94, 140, 51, 103, 149, 48, 111, 162, 30, 94, 140, 34, 85, 124, 73, 106, 136, 128, 148, 167, 128, 136, 143, 215, 213, 209, 255, 253, 249, 187, 198, 205, 66, 93, 118, 54, 91, 128, 50, 88, 125, 52, 90, 127, 52, 90, 127, 46, 83, 121, 45, 82, 115, 43, 82, 113, 41, 81, 112, 36, 80, 113, 39, 83, 117, 40, 86, 123, 40, 89, 131, 43, 92, 134, 46, 95, 138, 59, 108, 150, 62, 110, 152, 64, 109, 147, 59, 108, 149, 54, 108, 154, 50, 105, 152, 70, 123, 167, 83, 137, 182, 52, 114, 165, 35, 99, 147, 31, 86, 130, 41, 83, 122, 66, 95, 126, 128, 145, 164, 224, 229, 234, 240, 245, 247, 124, 143, 153, 58, 92, 114, 49, 87, 123, 56, 94, 131, 54, 92, 129, 44, 82, 119, 44, 82, 119, 47, 83, 119, 46, 84, 119, 43, 83, 119, 43, 86, 123, 44, 88, 127, 44, 90, 131, 45, 97, 141, 54, 106, 150, 58, 110, 154, 54, 105, 150, 46, 97, 141, 43, 95, 140, 36, 91, 138, 51, 108, 158, 73, 130, 178, 85, 138, 182, 76, 125, 169, 50, 110, 162, 35, 98, 149, 29, 89, 138, 35, 86, 133, 44, 83, 126, 78, 106, 138, 202, 219, 233, 211, 228, 234, 97, 126, 140, 65, 104, 126, 54, 94, 129, 48, 87, 124, 58, 97, 133, 48, 87, 123, 40, 80, 116, 45, 82, 119, 47, 84, 122, 48, 87, 126, 47, 89, 130, 46, 89, 132, 51, 97, 140, 39, 92, 138, 39, 93, 139, 48, 102, 148, 47, 101, 147, 39, 93, 139, 28, 85, 133, 40, 101, 153, 67, 129, 182, 67, 126, 176, 46, 98, 142, 51, 96, 139, 50, 108, 161, 35, 97, 147, 32, 92, 143, 33, 88, 141, 41, 88, 138, 46, 84, 125, 104, 133, 159, 170, 197, 211, 64, 100, 119, 54, 97, 121, 52, 94, 128, 53, 95, 130, 61, 103, 139, 58, 100, 135, 54, 96, 131, 45, 83, 120, 42, 79, 118, 41, 80, 120, 46, 88, 130, 49, 92, 135, 46, 92, 136, 42, 95, 139, 40, 93, 138, 39, 92, 136, 37, 90, 135, 40, 93, 138, 44, 102, 151, 63, 125, 178, 47, 110, 164, 31, 90, 140, 15, 60, 103, 51, 93, 136, 68, 124, 177, 42, 100, 148, 31, 88, 137, 38, 91, 146, 37, 87, 139, 43, 89, 132, 42, 79, 113, 71, 107, 133, 49, 89, 114, 31, 77, 105, 27, 71, 105, 38, 82, 117, 49, 93, 128, 56, 100, 135, 58, 102, 137, 53, 92, 128, 56, 94, 131, 60, 99, 137, 57, 99, 139, 53, 97, 138, 50, 95, 137, 45, 94, 136, 39, 88, 131, 33, 83, 125, 42, 91, 133, 62, 112, 154, 79, 132, 179, 73, 131, 181, 56, 116, 168, 38, 97, 146, 13, 64, 108, 40, 85, 127, 61, 116, 168, 49, 102, 148, 35, 85, 132, 43, 91, 143, 39, 90, 139, 42, 92, 134, 44, 88, 125, 40, 81, 112, 42, 85, 115, 27, 72, 104, 23, 67, 102, 30, 74, 109, 27, 71, 106, 29, 73, 108, 36, 80, 115, 47, 86, 120, 56, 95, 128, 62, 101, 135, 66, 109, 144, 75, 119, 156, 69, 113, 152, 49, 95, 134, 43, 88, 127, 43, 88, 127, 60, 105, 144, 85, 130, 170, 109, 156, 197, 93, 145, 190, 60, 115, 164, 26, 82, 130, 29, 82, 126, 20, 64, 107, 54, 107, 160, 56, 105, 149, 45, 89, 132, 43, 86, 134, 40, 89, 134, 40, 92, 132, 40, 87, 123, 38, 81, 115, 36, 79, 114, 26, 69, 105, 22, 66, 101, 29, 73, 108, 25, 69, 104, 29, 73, 108, 19, 63, 98, 18, 58, 89, 32, 70, 100, 47, 87, 118, 61, 104, 137, 74, 119, 152, 66, 111, 145, 53, 96, 131, 52, 95, 130, 45, 87, 123, 67, 109, 145, 89, 131, 167, 105, 146, 182, 89, 135, 175, 48, 99, 145, 24, 77, 124, 34, 84, 129, 21, 67, 110], \"height\": 32, \"channels\": 3, \"width\": 32, \"type\": \"image\", \"id\": 140073647014864}, {\"format\": \"raw\", \"value\": [160, 37, 13, 185, 49, 11, 209, 57, 14, 217, 58, 10, 230, 66, 9, 246, 78, 10, 249, 80, 5, 246, 81, 2, 248, 86, 3, 243, 82, 3, 230, 73, 1, 221, 66, 2, 218, 65, 4, 221, 67, 6, 216, 67, 5, 199, 56, 0, 188, 50, 1, 187, 50, 0, 184, 64, 35, 180, 115, 86, 166, 52, 22, 144, 56, 23, 121, 50, 29, 139, 39, 8, 106, 22, 13, 102, 34, 27, 102, 46, 39, 79, 36, 29, 94, 29, 19, 101, 18, 8, 91, 21, 6, 94, 19, 5, 225, 67, 13, 239, 72, 12, 242, 77, 10, 230, 68, 4, 232, 67, 7, 245, 74, 8, 243, 72, 3, 235, 66, 0, 237, 68, 4, 230, 64, 2, 216, 57, 1, 205, 52, 1, 201, 50, 2, 203, 54, 4, 200, 55, 4, 186, 46, 1, 175, 41, 1, 171, 42, 1, 161, 39, 16, 127, 41, 19, 142, 40, 7, 141, 35, 6, 122, 30, 6, 135, 33, 7, 118, 34, 33, 82, 46, 46, 37, 30, 23, 52, 27, 22, 95, 28, 19, 107, 21, 8, 97, 22, 4, 100, 18, 6, 252, 72, 7, 249, 68, 4, 241, 72, 3, 220, 62, 0, 217, 58, 4, 226, 61, 4, 223, 56, 1, 214, 49, 0, 213, 48, 4, 207, 45, 4, 195, 43, 4, 184, 40, 4, 179, 38, 4, 182, 42, 6, 179, 43, 5, 167, 38, 3, 159, 34, 4, 152, 35, 3, 148, 30, 12, 129, 28, 9, 128, 35, 4, 140, 33, 7, 128, 31, 6, 114, 34, 10, 87, 48, 40, 40, 34, 35, 4, 13, 13, 38, 14, 12, 99, 21, 15, 115, 20, 6, 105, 19, 3, 105, 17, 6, 233, 56, 1, 225, 54, 3, 222, 61, 8, 211, 60, 11, 211, 62, 18, 203, 48, 4, 200, 43, 3, 192, 36, 3, 187, 35, 5, 183, 35, 6, 174, 34, 8, 164, 32, 7, 160, 31, 8, 165, 33, 9, 160, 34, 6, 153, 32, 6, 145, 29, 7, 141, 30, 5, 140, 27, 10, 138, 29, 9, 125, 32, 4, 125, 28, 10, 127, 29, 16, 105, 37, 23, 59, 42, 30, 37, 18, 22, 26, 11, 17, 55, 15, 14, 112, 22, 15, 120, 19, 6, 112, 16, 5, 109, 17, 8, 207, 57, 12, 195, 57, 19, 207, 66, 29, 201, 59, 26, 190, 52, 23, 180, 36, 6, 179, 32, 7, 171, 27, 8, 163, 28, 7, 159, 29, 8, 153, 28, 9, 146, 26, 8, 145, 26, 9, 151, 26, 10, 147, 28, 7, 141, 30, 8, 135, 28, 9, 136, 28, 7, 131, 28, 8, 135, 28, 7, 129, 28, 8, 122, 48, 37, 132, 67, 64, 90, 42, 39, 58, 25, 16, 61, 18, 16, 48, 13, 14, 86, 25, 21, 117, 27, 14, 120, 31, 15, 114, 19, 13, 109, 17, 9, 182, 59, 24, 171, 58, 30, 170, 47, 22, 162, 33, 12, 153, 26, 9, 156, 26, 6, 159, 25, 9, 151, 22, 8, 144, 23, 5, 141, 25, 5, 140, 26, 9, 138, 25, 10, 139, 24, 11, 141, 24, 10, 138, 27, 7, 138, 31, 9, 135, 29, 10, 140, 30, 11, 134, 33, 11, 138, 30, 7, 140, 33, 20, 137, 93, 85, 102, 94, 93, 69, 60, 59, 75, 41, 34, 62, 27, 14, 67, 30, 19, 116, 44, 32, 129, 43, 23, 128, 45, 27, 112, 24, 16, 110, 19, 9, 141, 34, 12, 136, 28, 11, 136, 23, 10, 134, 20, 7, 136, 22, 8, 134, 23, 8, 140, 22, 10, 133, 21, 7, 135, 22, 6, 137, 22, 5, 139, 25, 10, 141, 26, 14, 143, 24, 13, 146, 25, 12, 142, 29, 10, 145, 35, 12, 145, 32, 9, 145, 31, 14, 138, 35, 14, 143, 30, 7, 142, 51, 37, 107, 89, 86, 47, 55, 60, 33, 37, 40, 72, 56, 53, 75, 40, 28, 108, 43, 28, 127, 45, 28, 132, 36, 20, 132, 30, 16, 111, 23, 6, 112, 21, 7, 118, 17, 3, 125, 17, 6, 128, 16, 6, 129, 18, 7, 136, 22, 11, 131, 23, 10, 138, 22, 12, 132, 22, 9, 136, 24, 9, 140, 23, 8, 144, 26, 12, 147, 27, 14, 150, 25, 14, 158, 27, 18, 154, 29, 16, 153, 39, 19, 146, 40, 16, 149, 45, 21, 147, 51, 26, 148, 48, 22, 128, 65, 49, 66, 64, 62, 13, 18, 20, 17, 11, 10, 80, 34, 30, 117, 37, 26, 128, 31, 16, 122, 32, 13, 123, 25, 9, 128, 22, 8, 114, 22, 4, 112, 21, 7, 115, 17, 7, 126, 18, 10, 132, 18, 9, 133, 18, 8, 139, 21, 11, 135, 22, 10, 143, 23, 14, 137, 23, 11, 139, 25, 13, 145, 24, 12, 149, 28, 14, 152, 30, 15, 148, 37, 19, 154, 56, 36, 163, 51, 34, 170, 59, 40, 158, 59, 36, 162, 58, 32, 157, 55, 34, 148, 54, 34, 115, 61, 51, 44, 40, 43, 14, 17, 15, 30, 16, 9, 105, 26, 20, 139, 25, 12, 136, 24, 9, 126, 27, 10, 119, 26, 8, 122, 23, 8, 116, 21, 8, 111, 20, 8, 118, 19, 12, 128, 18, 12, 136, 18, 11, 136, 18, 8, 141, 21, 12, 136, 20, 10, 145, 22, 14, 141, 24, 13, 141, 24, 14, 147, 25, 14, 154, 32, 20, 165, 49, 34, 157, 62, 39, 154, 76, 49, 162, 57, 40, 167, 52, 38, 155, 49, 32, 147, 46, 27, 145, 50, 39, 138, 58, 50, 99, 56, 54, 56, 49, 59, 46, 48, 52, 55, 44, 38, 109, 41, 35, 124, 35, 21, 122, 25, 11, 126, 25, 12, 115, 25, 6, 116, 24, 9, 117, 20, 11, 110, 20, 10, 125, 20, 12, 132, 18, 11, 139, 19, 11, 137, 18, 9, 142, 21, 12, 136, 21, 10, 144, 21, 13, 140, 23, 13, 139, 25, 13, 144, 25, 16, 150, 36, 27, 153, 53, 40, 131, 49, 32, 139, 66, 50, 144, 62, 50, 152, 74, 63, 166, 104, 88, 186, 137, 119, 211, 166, 161, 214, 184, 180, 128, 124, 121, 92, 104, 113, 69, 75, 84, 42, 33, 34, 85, 56, 50, 95, 61, 49, 99, 38, 29, 115, 25, 17, 112, 24, 9, 111, 25, 10, 113, 18, 12, 107, 19, 10, 133, 21, 9, 137, 18, 10, 142, 20, 14, 138, 19, 11, 141, 24, 14, 136, 24, 12, 142, 22, 13, 138, 24, 12, 137, 25, 12, 143, 29, 18, 136, 31, 24, 132, 48, 39, 142, 85, 77, 182, 151, 147, 201, 178, 175, 203, 190, 186, 210, 205, 200, 206, 205, 200, 207, 202, 210, 192, 197, 202, 162, 178, 177, 189, 208, 213, 146, 152, 158, 42, 22, 28, 27, 24, 19, 40, 37, 34, 103, 70, 70, 114, 40, 37, 109, 21, 10, 106, 22, 9, 108, 17, 11, 104, 17, 9, 140, 20, 8, 139, 20, 10, 143, 22, 15, 139, 21, 13, 143, 24, 16, 140, 24, 14, 138, 25, 13, 137, 26, 14, 135, 25, 12, 133, 32, 24, 144, 66, 62, 164, 112, 108, 171, 144, 142, 160, 155, 162, 137, 140, 147, 115, 117, 125, 106, 100, 110, 93, 88, 94, 75, 71, 84, 59, 61, 74, 111, 117, 126, 220, 232, 241, 201, 213, 215, 95, 78, 84, 13, 15, 12, 7, 10, 9, 62, 50, 52, 116, 70, 73, 99, 26, 25, 101, 21, 13, 105, 17, 9, 100, 16, 8, 144, 20, 11, 138, 22, 11, 143, 25, 15, 140, 22, 14, 146, 23, 17, 146, 23, 16, 130, 25, 12, 135, 26, 14, 130, 26, 20, 145, 72, 68, 140, 103, 103, 110, 91, 93, 94, 80, 86, 92, 86, 95, 49, 52, 61, 19, 18, 25, 29, 17, 22, 50, 34, 35, 25, 15, 17, 18, 16, 23, 120, 124, 137, 209, 221, 235, 210, 224, 235, 157, 155, 167, 38, 36, 42, 6, 7, 7, 19, 22, 23, 68, 59, 66, 69, 33, 40, 82, 19, 17, 99, 18, 9, 95, 16, 7, 145, 24, 15, 139, 23, 13, 146, 27, 18, 142, 22, 14, 144, 24, 16, 142, 25, 18, 121, 19, 11, 128, 21, 18, 133, 55, 54, 127, 85, 83, 84, 58, 59, 68, 41, 46, 86, 61, 68, 82, 78, 83, 46, 50, 55, 22, 24, 27, 19, 11, 12, 50, 43, 39, 30, 30, 28, 65, 73, 76, 175, 191, 200, 201, 216, 232, 205, 209, 231, 203, 205, 224, 102, 103, 115, 16, 14, 22, 18, 16, 19, 22, 23, 26, 35, 27, 31, 56, 22, 22, 79, 20, 13, 88, 18, 8, 143, 26, 16, 139, 22, 13, 148, 26, 19, 144, 23, 14, 138, 25, 14, 132, 37, 30, 139, 60, 57, 131, 52, 55, 117, 76, 79, 66, 52, 53, 72, 56, 57, 86, 59, 60, 106, 80, 82, 78, 77, 78, 40, 46, 50, 34, 38, 41, 36, 35, 35, 70, 73, 71, 115, 124, 124, 182, 196, 200, 203, 223, 231, 197, 216, 230, 205, 217, 236, 195, 210, 221, 108, 118, 126, 61, 57, 68, 37, 21, 26, 18, 14, 14, 24, 31, 32, 79, 71, 73, 100, 62, 63, 83, 17, 9, 142, 25, 17, 139, 20, 14, 147, 25, 19, 144, 23, 17, 133, 33, 24, 114, 53, 47, 132, 96, 93, 121, 92, 92, 81, 73, 79, 89, 93, 98, 60, 62, 60, 69, 66, 61, 85, 81, 76, 68, 71, 71, 83, 90, 94, 155, 162, 166, 192, 196, 198, 219, 223, 226, 237, 245, 250, 235, 245, 252, 215, 227, 237, 215, 228, 240, 211, 222, 231, 114, 121, 124, 48, 37, 42, 93, 59, 74, 53, 17, 28, 20, 9, 12, 65, 72, 76, 139, 140, 149, 143, 117, 126, 84, 19, 17, 143, 25, 18, 141, 21, 16, 142, 24, 18, 137, 26, 21, 116, 40, 36, 69, 44, 42, 58, 53, 56, 67, 69, 72, 81, 88, 96, 75, 82, 88, 29, 37, 36, 28, 41, 36, 36, 49, 45, 25, 32, 34, 140, 148, 154, 242, 251, 255, 236, 246, 250, 235, 242, 249, 227, 233, 244, 220, 226, 237, 219, 225, 237, 223, 226, 238, 149, 139, 150, 58, 31, 39, 57, 11, 21, 84, 25, 46, 78, 40, 59, 78, 67, 77, 133, 133, 142, 161, 162, 174, 167, 151, 163, 91, 34, 38, 143, 22, 17, 140, 19, 16, 136, 22, 16, 134, 38, 34, 141, 93, 92, 71, 70, 73, 45, 46, 60, 52, 54, 66, 67, 75, 84, 33, 38, 44, 23, 24, 28, 22, 27, 33, 47, 56, 62, 41, 49, 55, 155, 163, 174, 217, 227, 240, 199, 214, 225, 190, 205, 217, 191, 203, 217, 208, 218, 231, 220, 229, 239, 223, 228, 238, 173, 163, 177, 103, 74, 86, 93, 57, 69, 115, 90, 106, 135, 128, 146, 149, 149, 164, 152, 151, 164, 148, 150, 161, 165, 160, 169, 89, 51, 55, 143, 19, 13, 140, 15, 10, 126, 38, 32, 181, 124, 125, 189, 175, 180, 76, 90, 98, 33, 36, 53, 43, 42, 56, 57, 63, 72, 21, 23, 28, 16, 11, 14, 23, 21, 27, 57, 64, 73, 66, 79, 89, 158, 170, 185, 194, 208, 224, 182, 199, 213, 179, 197, 213, 196, 211, 228, 201, 214, 227, 194, 206, 215, 206, 217, 225, 222, 227, 242, 179, 177, 192, 151, 152, 165, 156, 168, 180, 149, 167, 181, 151, 162, 176, 150, 154, 166, 146, 151, 159, 136, 136, 141, 66, 42, 42, 140, 18, 12, 133, 10, 7, 154, 101, 101, 234, 220, 229, 181, 190, 201, 90, 111, 123, 38, 47, 62, 42, 46, 57, 52, 57, 65, 11, 10, 15, 11, 9, 9, 11, 14, 15, 20, 31, 38, 49, 66, 79, 160, 177, 191, 186, 204, 218, 176, 194, 208, 185, 202, 219, 185, 198, 216, 115, 124, 138, 69, 79, 88, 90, 102, 109, 161, 172, 184, 196, 211, 228, 183, 200, 218, 170, 184, 201, 160, 177, 191, 153, 169, 181, 147, 156, 166, 136, 140, 147, 77, 74, 77, 38, 17, 14, 130, 14, 13, 128, 20, 24, 163, 132, 139, 163, 165, 179, 139, 150, 162, 106, 128, 141, 45, 55, 69, 46, 52, 61, 28, 30, 35, 3, 3, 4, 9, 10, 11, 15, 22, 27, 30, 45, 54, 54, 72, 86, 162, 180, 194, 180, 198, 212, 172, 190, 204, 190, 205, 219, 113, 123, 136, 21, 25, 36, 20, 26, 32, 21, 30, 34, 48, 56, 64, 149, 163, 177, 187, 202, 221, 171, 184, 204, 142, 158, 173, 133, 147, 159, 128, 136, 144, 67, 68, 73, 21, 13, 15, 39, 17, 13, 124, 10, 9, 132, 35, 39, 103, 83, 91, 26, 33, 49, 72, 83, 96, 108, 130, 143, 52, 62, 76, 48, 53, 62, 18, 19, 21, 7, 7, 7, 11, 16, 21, 59, 72, 81, 90, 108, 121, 99, 117, 131, 165, 183, 197, 176, 194, 208, 177, 195, 209, 169, 183, 193, 42, 47, 56, 29, 30, 38, 47, 49, 55, 38, 43, 46, 14, 20, 25, 70, 79, 89, 149, 161, 178, 136, 148, 169, 117, 132, 149, 117, 129, 141, 60, 64, 72, 14, 10, 14, 21, 9, 8, 48, 24, 20, 121, 10, 5, 124, 33, 34, 73, 55, 59, 30, 35, 48, 59, 70, 83, 114, 136, 149, 68, 78, 92, 31, 36, 45, 13, 15, 15, 14, 17, 19, 24, 34, 42, 72, 88, 100, 79, 97, 111, 108, 126, 140, 187, 205, 219, 187, 205, 219, 191, 208, 222, 139, 152, 160, 27, 32, 38, 43, 43, 51, 30, 32, 37, 27, 31, 35, 28, 32, 36, 27, 31, 39, 108, 117, 130, 132, 145, 164, 123, 138, 155, 89, 99, 110, 22, 23, 29, 21, 12, 12, 42, 25, 22, 59, 33, 30, 109, 10, 7, 102, 21, 23, 71, 54, 58, 63, 65, 77, 60, 71, 84, 113, 136, 148, 77, 87, 101, 28, 33, 42, 16, 21, 22, 31, 39, 43, 48, 63, 74, 71, 87, 101, 70, 86, 100, 136, 154, 168, 189, 207, 221, 179, 197, 211, 180, 198, 212, 116, 129, 137, 31, 37, 43, 54, 56, 64, 53, 55, 63, 41, 44, 52, 27, 28, 35, 14, 15, 21, 72, 77, 86, 133, 147, 162, 124, 139, 154, 60, 67, 78, 18, 14, 19, 34, 20, 18, 50, 28, 24, 59, 31, 28, 87, 7, 9, 81, 14, 21, 61, 47, 55, 60, 62, 76, 58, 69, 82, 105, 128, 140, 75, 86, 101, 21, 28, 37, 20, 30, 33, 46, 60, 67, 76, 94, 108, 96, 111, 127, 97, 111, 126, 145, 162, 176, 164, 182, 195, 163, 180, 194, 170, 188, 201, 113, 127, 135, 32, 41, 48, 57, 60, 70, 71, 75, 86, 49, 53, 65, 37, 35, 46, 17, 15, 21, 41, 44, 50, 108, 122, 131, 96, 111, 123, 33, 38, 49, 12, 7, 11, 29, 13, 10, 40, 16, 11, 50, 22, 20, 73, 11, 11, 73, 17, 23, 64, 39, 49, 60, 59, 73, 57, 70, 87, 95, 117, 132, 87, 104, 120, 47, 61, 75, 61, 81, 93, 98, 121, 134, 137, 159, 177, 165, 183, 200, 169, 185, 200, 176, 195, 207, 183, 201, 212, 182, 199, 213, 182, 198, 214, 124, 136, 148, 34, 42, 53, 54, 60, 72, 96, 102, 113, 92, 98, 110, 51, 52, 64, 27, 28, 34, 17, 21, 24, 70, 79, 85, 59, 69, 76, 12, 16, 22, 6, 3, 7, 18, 7, 9, 29, 12, 13, 40, 22, 22, 73, 19, 15, 73, 20, 22, 69, 29, 37, 78, 67, 78, 65, 73, 87, 89, 103, 115, 69, 85, 96, 47, 60, 72, 52, 69, 82, 60, 80, 93, 74, 91, 105, 86, 100, 114, 91, 104, 119, 96, 113, 125, 98, 113, 126, 96, 109, 123, 98, 109, 124, 83, 89, 102, 32, 37, 48, 60, 65, 76, 59, 64, 75, 62, 66, 78, 29, 31, 41, 20, 23, 27, 4, 8, 9, 17, 20, 24, 10, 14, 16, 3, 5, 6, 7, 6, 8, 10, 6, 10, 17, 11, 15, 33, 24, 25, 75, 23, 21, 83, 28, 31, 72, 29, 35, 54, 37, 43, 45, 44, 50, 39, 44, 48, 15, 22, 25, 4, 7, 12, 3, 10, 14, 2, 10, 14, 5, 12, 17, 7, 12, 17, 7, 13, 20, 8, 16, 24, 10, 17, 26, 11, 16, 25, 11, 15, 24, 13, 15, 20, 8, 9, 13, 66, 67, 74, 67, 68, 78, 47, 48, 59, 56, 56, 65, 15, 16, 18, 2, 4, 3, 2, 3, 5, 1, 3, 4, 3, 4, 3, 6, 6, 5, 10, 9, 9, 15, 14, 13, 32, 25, 26, 80, 33, 33, 89, 37, 40, 81, 39, 44, 47, 32, 37, 21, 23, 30, 10, 18, 23, 16, 25, 30, 25, 32, 37, 14, 23, 28, 10, 21, 25, 14, 23, 28, 14, 23, 28, 14, 23, 27, 14, 21, 24, 14, 19, 23, 12, 15, 19, 10, 11, 15, 9, 10, 9, 6, 7, 6, 23, 24, 28, 62, 62, 71, 72, 71, 83, 42, 41, 47, 7, 8, 8, 3, 4, 2, 4, 5, 5, 5, 5, 5, 5, 6, 4, 7, 9, 6, 11, 14, 11, 21, 24, 21, 33, 29, 28, 73, 35, 37, 79, 37, 41, 73, 41, 48, 55, 50, 59, 46, 60, 73, 47, 67, 79, 59, 81, 92, 58, 77, 89, 26, 44, 56, 17, 36, 47, 25, 45, 56, 28, 48, 59, 31, 49, 57, 32, 44, 48, 29, 39, 43, 28, 35, 40, 24, 29, 35, 21, 27, 27, 16, 21, 21, 12, 16, 21, 20, 23, 33, 22, 25, 37, 8, 10, 16, 6, 9, 8, 8, 11, 8, 7, 9, 9, 8, 10, 10, 8, 11, 10, 11, 14, 13, 15, 20, 18, 27, 31, 29, 31, 30, 28, 69, 42, 44, 72, 42, 49, 76, 59, 70, 78, 87, 101, 88, 109, 128, 83, 111, 128, 72, 102, 118, 56, 82, 99, 32, 55, 71, 38, 62, 78, 43, 69, 84, 42, 71, 85, 47, 74, 87, 51, 72, 83, 50, 70, 81, 49, 67, 79, 44, 59, 71, 38, 51, 60, 30, 43, 49, 28, 41, 49, 34, 47, 58, 34, 44, 56, 19, 24, 32, 12, 18, 19, 14, 20, 19, 16, 22, 24, 15, 21, 24, 13, 19, 21, 18, 22, 25, 26, 28, 31, 30, 32, 34, 29, 30, 28], \"height\": 32, \"channels\": 3, \"width\": 32, \"type\": \"image\", \"id\": 140073647015504}, {\"format\": \"raw\", \"value\": [23, 19, 23, 19, 21, 28, 21, 16, 19, 65, 47, 40, 164, 131, 113, 188, 147, 115, 183, 147, 109, 178, 142, 116, 170, 135, 113, 172, 137, 103, 186, 144, 106, 186, 142, 105, 184, 141, 105, 183, 140, 105, 182, 140, 105, 183, 143, 107, 180, 140, 106, 164, 126, 99, 127, 96, 76, 92, 73, 58, 107, 95, 84, 110, 93, 86, 153, 130, 114, 194, 164, 137, 195, 155, 124, 201, 156, 125, 197, 155, 124, 198, 157, 125, 201, 158, 127, 200, 155, 125, 199, 152, 122, 197, 151, 120, 23, 20, 24, 19, 20, 27, 21, 17, 20, 46, 31, 26, 153, 122, 106, 202, 161, 130, 191, 155, 118, 178, 146, 124, 164, 138, 125, 158, 136, 114, 169, 139, 109, 183, 149, 117, 186, 152, 120, 184, 150, 118, 180, 146, 114, 178, 151, 121, 180, 159, 133, 173, 150, 131, 138, 117, 106, 86, 73, 68, 74, 65, 62, 106, 88, 81, 180, 156, 140, 206, 175, 150, 207, 168, 138, 213, 169, 140, 208, 171, 137, 206, 173, 136, 207, 172, 136, 205, 168, 133, 204, 164, 129, 202, 163, 128, 23, 20, 24, 20, 20, 26, 23, 20, 23, 31, 21, 18, 127, 102, 88, 200, 162, 131, 185, 151, 116, 168, 140, 123, 159, 141, 139, 158, 149, 141, 154, 136, 116, 162, 139, 116, 178, 154, 129, 178, 153, 127, 179, 152, 125, 178, 159, 132, 181, 166, 142, 190, 171, 154, 182, 161, 152, 125, 109, 105, 71, 58, 55, 114, 97, 89, 197, 177, 159, 209, 183, 158, 213, 179, 151, 216, 178, 151, 213, 177, 146, 211, 178, 142, 212, 177, 142, 211, 173, 139, 208, 169, 136, 206, 166, 132, 23, 20, 24, 21, 20, 25, 24, 21, 25, 23, 17, 18, 99, 79, 69, 189, 153, 124, 175, 140, 106, 160, 130, 115, 168, 151, 156, 168, 164, 166, 166, 157, 146, 149, 135, 120, 170, 153, 137, 186, 166, 148, 191, 169, 149, 195, 176, 151, 195, 176, 150, 200, 175, 156, 188, 161, 148, 141, 118, 109, 99, 82, 74, 146, 133, 122, 210, 196, 177, 214, 195, 169, 213, 189, 161, 212, 183, 157, 212, 180, 152, 213, 179, 149, 217, 179, 150, 217, 177, 148, 215, 173, 145, 214, 171, 142, 25, 21, 25, 23, 20, 24, 23, 21, 25, 21, 19, 23, 72, 56, 51, 170, 137, 109, 165, 130, 96, 151, 119, 104, 175, 156, 161, 183, 178, 184, 185, 179, 178, 155, 146, 141, 146, 132, 124, 157, 139, 128, 169, 148, 134, 188, 167, 147, 197, 175, 151, 196, 169, 150, 178, 152, 137, 141, 120, 108, 121, 109, 96, 172, 167, 152, 211, 206, 183, 219, 210, 181, 221, 209, 179, 217, 201, 174, 217, 195, 168, 217, 191, 164, 214, 186, 160, 212, 182, 156, 209, 177, 152, 206, 172, 147, 26, 22, 26, 27, 22, 26, 26, 23, 27, 23, 22, 28, 49, 38, 35, 143, 115, 89, 164, 130, 95, 154, 120, 102, 169, 146, 150, 194, 185, 193, 200, 195, 199, 166, 158, 159, 130, 118, 116, 125, 108, 102, 128, 107, 98, 151, 132, 118, 165, 146, 130, 165, 143, 131, 148, 129, 119, 143, 132, 122, 147, 143, 132, 182, 183, 167, 188, 190, 166, 201, 199, 170, 212, 207, 178, 217, 209, 183, 213, 204, 179, 219, 209, 183, 220, 209, 183, 215, 202, 177, 215, 199, 175, 211, 194, 169, 30, 24, 26, 26, 19, 22, 27, 21, 25, 25, 20, 26, 37, 30, 29, 125, 113, 92, 180, 161, 128, 171, 148, 123, 169, 151, 147, 197, 186, 195, 202, 194, 199, 179, 170, 171, 139, 128, 126, 113, 98, 94, 122, 105, 99, 130, 113, 106, 119, 104, 96, 133, 116, 109, 122, 107, 101, 140, 128, 122, 185, 178, 172, 203, 202, 192, 191, 192, 170, 201, 197, 176, 215, 206, 195, 218, 207, 196, 215, 209, 197, 219, 215, 202, 220, 216, 197, 218, 214, 191, 220, 215, 191, 224, 218, 194, 94, 88, 77, 48, 41, 33, 31, 24, 17, 36, 29, 25, 100, 96, 88, 175, 174, 154, 193, 186, 155, 168, 156, 126, 163, 149, 140, 192, 181, 190, 198, 189, 193, 195, 186, 185, 174, 164, 163, 145, 132, 129, 142, 129, 123, 132, 118, 113, 106, 92, 88, 121, 107, 103, 122, 108, 104, 139, 124, 121, 192, 180, 177, 209, 204, 198, 189, 187, 165, 213, 206, 189, 242, 230, 228, 237, 224, 219, 239, 231, 224, 232, 228, 218, 208, 205, 186, 213, 211, 187, 222, 220, 196, 229, 226, 205, 180, 177, 149, 158, 153, 128, 114, 109, 86, 122, 117, 96, 177, 175, 155, 190, 189, 167, 190, 183, 153, 160, 147, 119, 133, 120, 111, 173, 161, 168, 197, 188, 191, 200, 192, 191, 194, 184, 183, 185, 173, 170, 167, 154, 148, 146, 131, 127, 129, 115, 112, 129, 115, 112, 133, 119, 116, 141, 127, 124, 177, 166, 163, 201, 197, 187, 189, 188, 162, 220, 216, 193, 241, 233, 223, 235, 226, 213, 232, 227, 207, 213, 211, 187, 189, 188, 157, 199, 198, 166, 225, 224, 196, 234, 232, 210, 197, 194, 161, 192, 188, 158, 178, 175, 146, 186, 182, 155, 193, 191, 167, 195, 194, 169, 197, 190, 159, 157, 144, 117, 128, 115, 104, 163, 152, 155, 185, 177, 179, 191, 182, 181, 193, 183, 182, 195, 182, 180, 178, 164, 159, 151, 138, 135, 114, 102, 100, 129, 118, 116, 131, 119, 117, 134, 123, 121, 170, 160, 158, 194, 189, 178, 208, 208, 178, 234, 233, 204, 236, 232, 216, 240, 235, 214, 235, 234, 203, 201, 203, 167, 185, 187, 147, 187, 189, 150, 208, 209, 176, 235, 235, 207, 202, 199, 170, 196, 192, 165, 187, 183, 158, 192, 187, 165, 200, 198, 175, 205, 205, 176, 197, 191, 160, 151, 138, 112, 149, 136, 123, 175, 165, 164, 184, 176, 177, 189, 181, 180, 193, 184, 182, 187, 175, 172, 168, 154, 149, 136, 124, 121, 117, 107, 106, 128, 118, 116, 128, 119, 117, 129, 120, 118, 167, 158, 156, 181, 176, 166, 205, 205, 175, 240, 240, 209, 243, 243, 222, 243, 244, 216, 238, 242, 205, 206, 212, 169, 186, 192, 145, 187, 192, 147, 193, 198, 159, 221, 224, 186, 205, 201, 172, 205, 201, 174, 197, 193, 169, 192, 187, 166, 203, 201, 176, 208, 209, 176, 194, 188, 157, 160, 146, 122, 168, 155, 141, 191, 182, 177, 193, 185, 185, 191, 183, 182, 193, 183, 182, 172, 159, 157, 146, 132, 127, 119, 107, 104, 124, 115, 115, 142, 133, 132, 133, 124, 123, 135, 126, 125, 167, 158, 159, 176, 170, 164, 191, 189, 163, 234, 235, 206, 243, 246, 224, 241, 246, 217, 236, 242, 205, 215, 222, 181, 186, 194, 146, 184, 192, 142, 185, 192, 147, 196, 202, 156, 206, 203, 167, 204, 201, 167, 200, 197, 165, 193, 189, 160, 197, 196, 165, 199, 198, 164, 191, 183, 153, 180, 165, 143, 172, 159, 145, 179, 170, 163, 183, 176, 174, 173, 165, 164, 174, 164, 163, 174, 162, 159, 152, 138, 133, 131, 120, 118, 141, 133, 134, 166, 159, 159, 142, 135, 135, 154, 146, 146, 169, 161, 163, 172, 165, 163, 191, 189, 168, 230, 231, 205, 240, 244, 223, 241, 248, 220, 239, 247, 214, 228, 234, 199, 200, 208, 163, 186, 195, 144, 184, 193, 144, 192, 199, 152, 210, 208, 169, 202, 202, 162, 198, 196, 160, 191, 185, 155, 201, 193, 163, 180, 167, 136, 177, 156, 131, 202, 185, 164, 171, 161, 146, 154, 145, 136, 142, 135, 132, 142, 135, 133, 168, 161, 159, 168, 158, 158, 147, 137, 135, 156, 143, 146, 175, 164, 167, 169, 164, 162, 150, 149, 144, 164, 162, 158, 158, 153, 152, 160, 157, 152, 197, 195, 176, 230, 228, 203, 241, 242, 215, 241, 247, 216, 244, 249, 221, 242, 245, 218, 226, 232, 197, 191, 199, 159, 195, 204, 162, 215, 222, 182, 211, 210, 174, 201, 204, 164, 199, 197, 162, 192, 182, 157, 207, 191, 168, 170, 142, 120, 161, 125, 109, 215, 193, 178, 189, 181, 166, 186, 177, 167, 173, 166, 161, 172, 167, 163, 190, 184, 182, 177, 170, 171, 137, 130, 132, 127, 114, 120, 180, 165, 169, 174, 170, 163, 150, 152, 140, 160, 158, 149, 175, 171, 166, 176, 174, 164, 193, 189, 170, 236, 231, 204, 245, 242, 211, 242, 244, 213, 243, 245, 218, 251, 251, 228, 239, 242, 214, 201, 207, 176, 212, 221, 187, 225, 233, 199, 211, 212, 175, 196, 200, 160, 197, 197, 161, 193, 185, 159, 209, 189, 170, 181, 145, 132, 154, 112, 104, 217, 192, 183, 206, 199, 188, 197, 190, 182, 195, 189, 184, 185, 180, 176, 170, 164, 162, 173, 167, 168, 166, 160, 163, 152, 137, 141, 163, 146, 145, 184, 176, 165, 166, 162, 146, 152, 145, 133, 192, 184, 175, 181, 177, 165, 175, 168, 150, 204, 195, 169, 238, 232, 202, 243, 241, 212, 244, 245, 217, 247, 249, 221, 223, 228, 196, 213, 221, 186, 226, 236, 199, 226, 235, 199, 214, 216, 179, 194, 199, 159, 180, 182, 146, 181, 174, 148, 197, 176, 161, 196, 155, 151, 155, 110, 109, 198, 173, 168, 214, 208, 199, 192, 186, 181, 174, 168, 164, 183, 178, 174, 173, 168, 165, 161, 155, 156, 174, 167, 170, 178, 164, 166, 128, 110, 105, 164, 150, 136, 189, 177, 159, 147, 134, 119, 167, 154, 143, 180, 171, 158, 156, 144, 126, 118, 104, 80, 157, 145, 118, 215, 209, 183, 239, 238, 209, 235, 237, 205, 206, 210, 175, 214, 221, 183, 234, 243, 201, 228, 237, 197, 215, 219, 181, 198, 206, 164, 166, 169, 133, 163, 158, 131, 180, 163, 149, 202, 167, 165, 190, 149, 151, 185, 162, 159, 207, 202, 194, 210, 205, 199, 205, 200, 196, 214, 209, 205, 193, 188, 185, 174, 168, 168, 176, 170, 172, 173, 161, 162, 129, 112, 104, 137, 120, 105, 191, 173, 155, 153, 135, 119, 163, 147, 134, 200, 186, 173, 171, 155, 136, 135, 115, 92, 116, 98, 75, 144, 132, 111, 184, 178, 152, 193, 188, 158, 187, 185, 152, 210, 212, 176, 239, 243, 203, 235, 239, 200, 216, 221, 183, 205, 214, 172, 174, 179, 142, 164, 161, 133, 185, 175, 159, 203, 181, 176, 210, 179, 177, 194, 177, 170, 191, 189, 177, 211, 207, 197, 218, 212, 207, 226, 221, 217, 225, 220, 217, 203, 197, 198, 190, 184, 187, 179, 171, 170, 151, 139, 131, 121, 103, 90, 168, 149, 133, 158, 140, 126, 167, 151, 139, 194, 177, 162, 170, 148, 130, 172, 147, 126, 154, 131, 111, 131, 112, 96, 153, 138, 118, 169, 156, 132, 162, 151, 124, 184, 177, 146, 222, 217, 184, 236, 234, 199, 216, 223, 185, 208, 218, 176, 192, 198, 161, 180, 178, 149, 197, 194, 175, 202, 194, 183, 209, 190, 182, 210, 200, 188, 186, 186, 170, 189, 184, 170, 197, 191, 185, 204, 199, 194, 209, 203, 201, 213, 208, 208, 207, 200, 202, 181, 177, 175, 178, 171, 164, 149, 135, 123, 146, 127, 113, 175, 158, 145, 183, 168, 157, 174, 155, 140, 156, 131, 113, 171, 143, 123, 163, 137, 119, 148, 126, 112, 169, 148, 134, 180, 159, 142, 166, 147, 127, 160, 144, 121, 172, 158, 132, 204, 197, 166, 218, 225, 189, 213, 221, 183, 202, 208, 173, 182, 183, 155, 191, 191, 171, 203, 199, 186, 201, 190, 177, 202, 194, 178, 202, 198, 180, 195, 188, 172, 193, 190, 178, 192, 186, 177, 178, 171, 164, 198, 193, 188, 207, 198, 195, 199, 191, 189, 211, 207, 201, 203, 191, 182, 166, 148, 136, 187, 169, 157, 177, 160, 147, 155, 135, 120, 147, 123, 106, 166, 141, 124, 167, 142, 128, 171, 149, 138, 182, 159, 148, 175, 152, 138, 156, 135, 120, 156, 136, 119, 159, 140, 122, 167, 154, 130, 217, 222, 189, 215, 221, 188, 209, 214, 183, 186, 190, 161, 179, 179, 158, 200, 195, 183, 208, 200, 187, 200, 190, 176, 209, 198, 184, 215, 205, 191, 210, 209, 192, 186, 178, 164, 161, 151, 139, 182, 179, 166, 196, 182, 173, 194, 181, 177, 203, 197, 192, 207, 196, 188, 190, 174, 162, 185, 165, 150, 155, 134, 118, 142, 124, 107, 155, 137, 121, 166, 147, 133, 172, 153, 142, 179, 161, 150, 173, 153, 141, 159, 139, 125, 150, 131, 117, 158, 139, 124, 158, 139, 125, 143, 125, 108, 214, 219, 186, 213, 218, 186, 214, 219, 187, 192, 198, 166, 169, 170, 148, 197, 191, 180, 218, 210, 199, 217, 207, 197, 215, 203, 193, 217, 206, 195, 212, 207, 192, 195, 180, 168, 170, 156, 145, 179, 174, 159, 195, 180, 169, 191, 176, 170, 190, 182, 175, 192, 181, 172, 192, 176, 163, 170, 150, 134, 132, 111, 93, 142, 125, 108, 167, 150, 134, 170, 152, 139, 170, 152, 141, 179, 161, 151, 173, 154, 142, 157, 138, 124, 157, 138, 124, 147, 128, 114, 134, 115, 101, 125, 106, 91, 213, 218, 186, 209, 214, 181, 211, 217, 183, 202, 207, 172, 168, 170, 143, 193, 188, 176, 216, 210, 201, 222, 213, 207, 223, 212, 206, 222, 211, 203, 211, 199, 189, 205, 182, 175, 194, 174, 165, 194, 186, 171, 201, 186, 174, 198, 181, 172, 198, 186, 178, 196, 182, 171, 188, 171, 158, 153, 133, 117, 134, 114, 97, 155, 137, 120, 171, 154, 138, 167, 149, 136, 166, 148, 138, 189, 171, 161, 178, 159, 146, 165, 146, 132, 163, 144, 130, 142, 123, 109, 133, 115, 100, 137, 118, 104, 211, 216, 184, 206, 212, 178, 206, 212, 175, 202, 209, 169, 175, 179, 146, 191, 189, 170, 211, 207, 198, 213, 205, 202, 214, 205, 200, 216, 205, 197, 198, 177, 171, 171, 138, 136, 194, 167, 161, 206, 195, 180, 201, 187, 171, 201, 182, 170, 200, 185, 173, 197, 181, 168, 177, 158, 144, 150, 130, 115, 144, 125, 108, 158, 141, 124, 167, 150, 134, 157, 140, 126, 159, 141, 130, 181, 163, 153, 176, 157, 145, 168, 149, 135, 152, 133, 119, 150, 131, 117, 149, 130, 116, 144, 124, 111, 210, 215, 184, 204, 210, 176, 201, 208, 168, 193, 200, 157, 181, 187, 147, 188, 190, 162, 208, 206, 192, 210, 204, 200, 205, 198, 191, 206, 196, 185, 160, 131, 129, 122, 80, 82, 177, 145, 141, 208, 194, 179, 198, 184, 166, 194, 174, 159, 193, 174, 159, 184, 165, 150, 166, 147, 132, 150, 131, 116, 139, 120, 105, 156, 139, 122, 160, 143, 127, 153, 136, 122, 155, 137, 127, 160, 142, 132, 159, 140, 128, 155, 136, 122, 152, 133, 119, 152, 133, 119, 140, 121, 107, 131, 112, 98, 210, 215, 184, 202, 208, 172, 198, 205, 163, 187, 194, 148, 174, 181, 134, 178, 183, 146, 205, 205, 186, 214, 209, 202, 209, 204, 192, 203, 194, 178, 164, 129, 130, 131, 81, 88, 180, 142, 140, 202, 186, 172, 187, 171, 152, 182, 161, 144, 182, 161, 145, 169, 149, 132, 157, 137, 122, 139, 120, 105, 134, 115, 100, 153, 135, 119, 154, 137, 121, 144, 126, 112, 151, 133, 122, 141, 123, 113, 131, 112, 100, 141, 122, 108, 157, 138, 124, 155, 136, 122, 150, 131, 117, 147, 128, 114, 210, 214, 183, 200, 205, 169, 194, 200, 158, 181, 188, 142, 168, 176, 126, 168, 175, 132, 196, 198, 178, 215, 212, 204, 212, 208, 195, 199, 192, 175, 189, 160, 157, 184, 142, 144, 203, 170, 164, 185, 168, 152, 173, 155, 135, 172, 149, 131, 163, 141, 124, 155, 133, 116, 147, 127, 111, 118, 100, 84, 131, 113, 97, 148, 131, 115, 145, 128, 113, 141, 123, 109, 144, 126, 114, 132, 114, 102, 127, 108, 95, 133, 114, 100, 149, 130, 116, 163, 144, 130, 162, 144, 130, 156, 137, 123, 208, 210, 177, 194, 196, 161, 189, 192, 153, 180, 183, 142, 162, 169, 119, 158, 166, 122, 189, 192, 178, 211, 210, 204, 211, 209, 197, 197, 192, 180, 194, 182, 170, 199, 180, 168, 191, 171, 157, 172, 153, 135, 163, 141, 122, 164, 140, 123, 158, 134, 119, 147, 125, 109, 130, 111, 94, 109, 92, 75, 137, 120, 104, 144, 126, 111, 144, 126, 112, 145, 127, 113, 144, 126, 112, 132, 114, 100, 124, 105, 92, 134, 116, 102, 151, 133, 119, 162, 144, 130, 159, 141, 126, 147, 129, 115, 194, 196, 163, 177, 179, 144, 176, 179, 141, 181, 185, 145, 159, 166, 116, 143, 151, 107, 179, 181, 169, 205, 204, 200, 208, 205, 194, 199, 194, 183, 194, 186, 172, 190, 179, 163, 181, 166, 150, 165, 146, 129, 156, 133, 115, 161, 136, 121, 149, 126, 112, 136, 114, 100, 112, 93, 78, 114, 97, 81, 137, 120, 104, 133, 115, 101, 138, 120, 106, 146, 128, 114, 146, 128, 114, 131, 113, 99, 131, 113, 99, 144, 126, 112, 150, 132, 118, 149, 131, 117, 148, 130, 116, 141, 123, 110, 172, 177, 142, 157, 161, 126, 165, 170, 131, 178, 184, 143, 167, 174, 124, 133, 140, 95, 156, 156, 145, 199, 195, 192, 206, 201, 190, 199, 193, 183, 199, 191, 178, 194, 182, 168, 160, 145, 130, 133, 113, 98, 132, 108, 92, 139, 115, 101, 140, 118, 104, 126, 106, 92, 107, 89, 75, 126, 110, 95, 130, 114, 99, 129, 112, 97, 138, 120, 106, 149, 131, 116, 141, 123, 109, 140, 122, 108, 145, 127, 113, 142, 124, 110, 136, 117, 103, 140, 122, 108, 149, 130, 116, 152, 134, 119, 151, 157, 123, 134, 140, 104, 144, 151, 112, 155, 161, 120, 158, 166, 116, 125, 130, 87, 130, 128, 118, 183, 177, 174, 197, 191, 181, 191, 183, 174, 183, 175, 164, 165, 154, 141, 128, 112, 99, 103, 83, 69, 94, 71, 57, 105, 83, 70, 119, 99, 87, 112, 94, 81, 117, 101, 88, 124, 110, 96, 121, 108, 93, 125, 108, 94, 139, 121, 107, 143, 126, 112, 139, 121, 107, 140, 122, 108, 129, 111, 97, 125, 107, 93, 132, 115, 101, 149, 132, 118, 155, 137, 123, 150, 132, 118], \"height\": 32, \"channels\": 3, \"width\": 32, \"type\": \"image\", \"id\": 140073647016272}], \"selected_variable\": {\"name\": [\"<temporary SArray>\"], \"dtype\": \"Image\", \"view_component\": \"Images\", \"view_file\": \"sarray\", \"descriptives\": {\"rows\": 3}, \"type\": \"SArray\", \"view_components\": [\"Images\"]}}, e);\n",
       "                });\n",
       "            })();\n",
       "        "
      ]
     },
     "metadata": {},
     "output_type": "display_data"
    }
   ],
   "source": [
    "image_test[0:3]['image'].show()"
   ]
  },
  {
   "cell_type": "code",
   "execution_count": 15,
   "metadata": {
    "collapsed": false
   },
   "outputs": [
    {
     "data": {
      "text/plain": [
       "dtype: str\n",
       "Rows: 3\n",
       "['cat', 'automobile', 'cat']"
      ]
     },
     "execution_count": 15,
     "metadata": {},
     "output_type": "execute_result"
    }
   ],
   "source": [
    "deep_features_model.predict(image_test[0:3])"
   ]
  },
  {
   "cell_type": "markdown",
   "metadata": {},
   "source": [
    "The classifier with deep features gets all of these images right!"
   ]
  },
  {
   "cell_type": "markdown",
   "metadata": {},
   "source": [
    "#Compute test_data accuracy of deep_features_model\n",
    "\n",
    "As we can see, deep features provide us with significantly better accuracy (about 78%)"
   ]
  },
  {
   "cell_type": "code",
   "execution_count": 16,
   "metadata": {
    "collapsed": false
   },
   "outputs": [
    {
     "data": {
      "text/plain": [
       "{'accuracy': 0.788, 'confusion_matrix': Columns:\n",
       " \ttarget_label\tint\n",
       " \tpredicted_label\tint\n",
       " \tcount\tint\n",
       " \n",
       " Rows: 16\n",
       " \n",
       " Data:\n",
       " +--------------+-----------------+-------+\n",
       " | target_label | predicted_label | count |\n",
       " +--------------+-----------------+-------+\n",
       " |      0       |        2        |   12  |\n",
       " |      2       |        0        |   39  |\n",
       " |      1       |        2        |  115  |\n",
       " |      3       |        3        |  735  |\n",
       " |      1       |        3        |   66  |\n",
       " |      3       |        2        |  206  |\n",
       " |      0       |        3        |   7   |\n",
       " |      2       |        1        |   66  |\n",
       " |      0       |        1        |   20  |\n",
       " |      0       |        0        |  961  |\n",
       " +--------------+-----------------+-------+\n",
       " [16 rows x 3 columns]\n",
       " Note: Only the head of the SFrame is printed.\n",
       " You can use print_rows(num_rows=m, num_columns=n) to print more rows and columns.}"
      ]
     },
     "execution_count": 16,
     "metadata": {},
     "output_type": "execute_result"
    }
   ],
   "source": [
    "deep_features_model.evaluate(image_test)"
   ]
  }
 ],
 "metadata": {
  "kernelspec": {
   "display_name": "Python 2",
   "language": "python",
   "name": "python2"
  },
  "language_info": {
   "codemirror_mode": {
    "name": "ipython",
    "version": 2
   },
   "file_extension": ".py",
   "mimetype": "text/x-python",
   "name": "python",
   "nbconvert_exporter": "python",
   "pygments_lexer": "ipython2",
   "version": "2.7.10"
  }
 },
 "nbformat": 4,
 "nbformat_minor": 0
}
